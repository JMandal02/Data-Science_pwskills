{
  "nbformat": 4,
  "nbformat_minor": 0,
  "metadata": {
    "colab": {
      "provenance": [],
      "authorship_tag": "ABX9TyNKBfSn5MRUH7Zdqktqb5to",
      "include_colab_link": true
    },
    "kernelspec": {
      "name": "python3",
      "display_name": "Python 3"
    },
    "language_info": {
      "name": "python"
    }
  },
  "cells": [
    {
      "cell_type": "markdown",
      "metadata": {
        "id": "view-in-github",
        "colab_type": "text"
      },
      "source": [
        "<a href=\"https://colab.research.google.com/github/JMandal02/Data-Science_pwskills/blob/main/Assignment_Python_basic.ipynb\" target=\"_parent\"><img src=\"https://colab.research.google.com/assets/colab-badge.svg\" alt=\"Open In Colab\"/></a>"
      ]
    },
    {
      "cell_type": "markdown",
      "source": [
        "# **1. What is Python, and why is it popular?**\n",
        "   \n",
        "   - Python is a high-level, interpreted programming language known for:\n",
        "\n",
        "   -Easy-to-read syntax (beginner friendly)\n",
        "\n",
        "   -Large standard libraries and frameworks\n",
        "\n",
        "   -Cross-platform compatibility\n",
        "\n",
        "   -Applications in web development, data science, AI/ML, automation, etc.\n",
        "   Its popularity comes from simplicity and flexibility.\n",
        "\n",
        "# **2. What is an interpreter in Python?**\n",
        "   - An interpreter executes code line by line and immediately performs actions, rather than compiling everything beforehand.\n",
        "\n",
        "# **3. What are pre-defined keywords in Python?**\n",
        "   - Keywords are reserved words that have special meaning in Python. Examples include if, else, while, for, def, etc. These cannot be used as variable names.\n",
        "\n",
        "# **4. Can keywords be used as variable names?**\n",
        "   - No, keywords cannot be used as variable names in Python. Trying to do so results in a SyntaxError .\n",
        "\n",
        "# **5. What is mutability in Python?**\n",
        "   - IMutability refers to whether an object’s value can be changed after it is created.\n",
        "\n",
        "        - Mutable: Lists, Dictionaries, Sets\n",
        "\n",
        "        - Immutable: Strings, Tuples, Integers\n",
        "\n",
        "# **6. Why are lists mutable, but tuples are immutable?**\n",
        "   - Lists are designed to be flexible and allow modifications.\n",
        "\n",
        "   -Tuples are fixed and provide data integrity by preventing changes after creation.\n",
        "\n",
        "# **7. What is the difference between == and is operators in Python?**\n",
        "   - ==: Compares values.\n",
        "\n",
        "   - is: Compares identity (memory address).\n",
        "\n",
        "# **8. What are logical operators in Python?**\n",
        "   - and: True if both conditions are true\n",
        "\n",
        "   -or: True if at least one condition is true\n",
        "\n",
        "   -not: Inverts the result\n",
        "\n",
        "# **9. What is type casting in Python?**\n",
        "   - Type casting is converting one data type into another (e.g., string to integer).\n",
        "\n",
        "# **10. What is the difference between implicit and explicit type casting?**\n",
        "   - Implicit: done automatically by Python.\n",
        "   - Explicit: done manually using functions like int(), float().\n",
        "\n",
        "# **11. What is the purpose of conditional statements in Python?**\n",
        "   - Conditional statements (if, elif, else) are used to execute specific blocks of code based on certain conditions.\n",
        "\n",
        "# **12. How does the elif statement work?**\n",
        "   - elif stands for \"else if\". It checks additional conditions if the initial if is false.\n",
        "\n",
        "# **13. What is the difference between for and while loops?**\n",
        "   - for loop: Used when you know how many times to loop.\n",
        "\n",
        "   -while loop: Used when you don't know how many times and rely on a condition.\n",
        "\n",
        "# **14. Describe a scenario where a while loop is more suitable than a for loop.**\n",
        "   - When the number of iterations is not known in advance.\n",
        "\n"
      ],
      "metadata": {
        "id": "iBqwYML9mZes"
      }
    },
    {
      "cell_type": "code",
      "source": [
        "#1. Write a Python program to print \"Hello, World!y\n",
        "print(\"Hello, World!\")\n"
      ],
      "metadata": {
        "colab": {
          "base_uri": "https://localhost:8080/"
        },
        "id": "KBnSMGQvpINO",
        "outputId": "c8ba752d-c9ce-42ce-fad6-bdcddee8dbf0"
      },
      "execution_count": 1,
      "outputs": [
        {
          "output_type": "stream",
          "name": "stdout",
          "text": [
            "Hello, World!\n"
          ]
        }
      ]
    },
    {
      "cell_type": "code",
      "source": [
        "# 2.Write a Python program that displays your name and age\n",
        "name = \"Jyotirmoy\"\n",
        "age = 21\n",
        "print(f\"My name is {name} and I am {age} years old.\")\n"
      ],
      "metadata": {
        "colab": {
          "base_uri": "https://localhost:8080/"
        },
        "id": "3LMxsmvjvrQT",
        "outputId": "3f473053-9eed-45e0-d0c8-32b08068664f"
      },
      "execution_count": 2,
      "outputs": [
        {
          "output_type": "stream",
          "name": "stdout",
          "text": [
            "My name is Jyotirmoy and I am 21 years old.\n"
          ]
        }
      ]
    },
    {
      "cell_type": "code",
      "source": [
        "# 3.Write code to print all the pre-defined keywords in Python using the keyword library.\n",
        "import keyword\n",
        "print(keyword.kwlist)\n"
      ],
      "metadata": {
        "colab": {
          "base_uri": "https://localhost:8080/"
        },
        "id": "KaMyMlndv1ud",
        "outputId": "17c67f50-1056-427d-d0bb-0ae821bca55d"
      },
      "execution_count": 3,
      "outputs": [
        {
          "output_type": "stream",
          "name": "stdout",
          "text": [
            "['False', 'None', 'True', 'and', 'as', 'assert', 'async', 'await', 'break', 'class', 'continue', 'def', 'del', 'elif', 'else', 'except', 'finally', 'for', 'from', 'global', 'if', 'import', 'in', 'is', 'lambda', 'nonlocal', 'not', 'or', 'pass', 'raise', 'return', 'try', 'while', 'with', 'yield']\n"
          ]
        }
      ]
    },
    {
      "cell_type": "code",
      "source": [
        "# 4.Write a program that checks if a given word is a Python keyword.\n",
        "\n",
        "import keyword\n",
        "word = \"for\"\n",
        "print(f\"{word} is a keyword: {keyword.iskeyword(word)}\")\n"
      ],
      "metadata": {
        "colab": {
          "base_uri": "https://localhost:8080/"
        },
        "id": "UxrLjFMmwC4l",
        "outputId": "f241f108-3d2a-4437-e940-3d28894fd984"
      },
      "execution_count": 5,
      "outputs": [
        {
          "output_type": "stream",
          "name": "stdout",
          "text": [
            "for is a keyword: True\n"
          ]
        }
      ]
    },
    {
      "cell_type": "code",
      "source": [
        "# 5.Create a list and tuple in Python, and demonstrate how attempting to change an element works differently for each.\n",
        "\n",
        "my_list = [1, 2, 3]\n",
        "my_tuple = (1, 2, 3)\n",
        "\n",
        "my_list[0] = 100\n",
        "# my_tuple[0] = 100  # Uncommenting this line will raise an error\n",
        "\n",
        "print(\"List after change:\", my_list)\n",
        "print(\"Tuple remains:\", my_tuple)\n",
        "\n"
      ],
      "metadata": {
        "colab": {
          "base_uri": "https://localhost:8080/"
        },
        "id": "fHqr9MTywJU2",
        "outputId": "43193c34-0fbd-4993-d774-cf12a0b1b6e0"
      },
      "execution_count": 8,
      "outputs": [
        {
          "output_type": "stream",
          "name": "stdout",
          "text": [
            "List after change: [100, 2, 3]\n",
            "Tuple remains: (1, 2, 3)\n"
          ]
        }
      ]
    },
    {
      "cell_type": "code",
      "source": [
        "# 6.Write a function to demonstrate the behavior of mutable and immutable arguments.\n",
        "\n",
        "def modify(x):\n",
        "    x.append(10)\n",
        "\n",
        "a = [1, 2]\n",
        "modify(a)\n",
        "print(a)\n"
      ],
      "metadata": {
        "colab": {
          "base_uri": "https://localhost:8080/"
        },
        "id": "QOzwmlmfwsG0",
        "outputId": "45f29312-50bb-48d5-825e-167f5e43c56d"
      },
      "execution_count": 10,
      "outputs": [
        {
          "output_type": "stream",
          "name": "stdout",
          "text": [
            "[1, 2, 10]\n"
          ]
        }
      ]
    },
    {
      "cell_type": "code",
      "source": [
        "# 7.Write a program that performs basic arithmetic operations on two user-input numbers.\n",
        "\n",
        "a = int(input(\"Enter first number: \"))\n",
        "b = int(input(\"Enter second number: \"))\n",
        "\n",
        "print(\"Sum:\", a + b)\n",
        "print(\"Difference:\", a - b)\n",
        "print(\"Product:\", a * b)\n",
        "print(\"Quotient:\", a / b)\n"
      ],
      "metadata": {
        "colab": {
          "base_uri": "https://localhost:8080/"
        },
        "id": "Z8Y8Ucpsw4bH",
        "outputId": "bc6f244a-74af-43eb-ddd8-093104d37e6a"
      },
      "execution_count": 19,
      "outputs": [
        {
          "output_type": "stream",
          "name": "stdout",
          "text": [
            "Enter first number: 19\n",
            "Enter second number: 4\n",
            "Sum: 23\n",
            "Difference: 15\n",
            "Product: 76\n",
            "Quotient: 4.75\n"
          ]
        }
      ]
    },
    {
      "cell_type": "code",
      "source": [
        "# 8.Write a program to demonstrate the use of logical operators.\n",
        "x = True\n",
        "y = False\n",
        "\n",
        "print(\"x and y:\", x and y)\n",
        "print(\"x or y:\", x or y)\n",
        "print(\"not x:\", not x)\n"
      ],
      "metadata": {
        "colab": {
          "base_uri": "https://localhost:8080/"
        },
        "id": "Li5bp-N9w_4m",
        "outputId": "0c3f0235-f355-4ee7-ce49-e79381e124b6"
      },
      "execution_count": 20,
      "outputs": [
        {
          "output_type": "stream",
          "name": "stdout",
          "text": [
            "x and y: False\n",
            "x or y: True\n",
            "not x: False\n"
          ]
        }
      ]
    },
    {
      "cell_type": "code",
      "source": [
        "#9. Write a Python program to convert user input from string to integer, float, and boolean types.\n",
        "\n",
        "user_input = \"123\"\n",
        "\n",
        "print(\"Integer:\", int(user_input))\n",
        "print(\"Float:\", float(user_input))\n",
        "print(\"Boolean:\", bool(user_input))\n"
      ],
      "metadata": {
        "colab": {
          "base_uri": "https://localhost:8080/"
        },
        "id": "_NPZqjvfxGDN",
        "outputId": "6e622f84-5b60-4bb9-be4f-76e2595adb60"
      },
      "execution_count": 21,
      "outputs": [
        {
          "output_type": "stream",
          "name": "stdout",
          "text": [
            "Integer: 123\n",
            "Float: 123.0\n",
            "Boolean: True\n"
          ]
        }
      ]
    },
    {
      "cell_type": "code",
      "source": [
        "#10. Write code to demonstrate type casting with list elements.\n",
        "str_list = ['1', '2', '3']\n",
        "int_list = [int(x) for x in str_list]\n",
        "print(int_list)\n"
      ],
      "metadata": {
        "colab": {
          "base_uri": "https://localhost:8080/"
        },
        "id": "0IuKn66mxIK3",
        "outputId": "782db8e8-d1b3-49df-cb48-386ea753e0e6"
      },
      "execution_count": 23,
      "outputs": [
        {
          "output_type": "stream",
          "name": "stdout",
          "text": [
            "[1, 2, 3]\n"
          ]
        }
      ]
    },
    {
      "cell_type": "code",
      "source": [
        "# 11.Write a program that checks if a number is positive, negative, or zero.\n",
        "\n",
        "num = int(input(\"Enter a number: \"))\n",
        "\n",
        "if num > 0:\n",
        "    print(\"Positive\")\n",
        "elif num < 0:\n",
        "    print(\"Negative\")\n",
        "else:\n",
        "    print(\"Zero\")\n"
      ],
      "metadata": {
        "colab": {
          "base_uri": "https://localhost:8080/"
        },
        "id": "9yVet7bsxKtG",
        "outputId": "a44ee798-2faf-4e59-e7f9-2f26685549f6"
      },
      "execution_count": 24,
      "outputs": [
        {
          "output_type": "stream",
          "name": "stdout",
          "text": [
            "Enter a number: 27\n",
            "Positive\n"
          ]
        }
      ]
    },
    {
      "cell_type": "code",
      "source": [
        "# 12.Write a for loop to print numbers from 1 to 10.\n",
        "for i in range(1, 11):\n",
        "    print(i)\n"
      ],
      "metadata": {
        "colab": {
          "base_uri": "https://localhost:8080/"
        },
        "id": "tNvA1HZLxMkm",
        "outputId": "0d8b0bfa-3505-4b0f-ab80-42281eb1dc6d"
      },
      "execution_count": 27,
      "outputs": [
        {
          "output_type": "stream",
          "name": "stdout",
          "text": [
            "1\n",
            "2\n",
            "3\n",
            "4\n",
            "5\n",
            "6\n",
            "7\n",
            "8\n",
            "9\n",
            "10\n"
          ]
        }
      ]
    },
    {
      "cell_type": "code",
      "source": [
        "# 13.Write a Python program to find the sum of all even numbers between 1 and 50.\n",
        "total = 0\n",
        "for i in range(2, 51, 2):\n",
        "    total += i\n",
        "print(\"Sum of even numbers from 1 to 50:\", total)\n"
      ],
      "metadata": {
        "colab": {
          "base_uri": "https://localhost:8080/"
        },
        "id": "6F2ZXd-_xQiq",
        "outputId": "29526fe3-a3a3-41cc-a81c-a60e842ad020"
      },
      "execution_count": 29,
      "outputs": [
        {
          "output_type": "stream",
          "name": "stdout",
          "text": [
            "Sum of even numbers from 1 to 50: 650\n"
          ]
        }
      ]
    },
    {
      "cell_type": "code",
      "source": [
        "# 14.Write a program to reverse a string using a while loop.\n",
        "\n",
        "s = \"Python\"\n",
        "reversed_s = \"\"\n",
        "i = len(s) - 1\n",
        "\n",
        "while i >= 0:\n",
        "    reversed_s += s[i]\n",
        "    i -= 1\n",
        "\n",
        "print(\"Reversed string:\", reversed_s)\n"
      ],
      "metadata": {
        "colab": {
          "base_uri": "https://localhost:8080/"
        },
        "id": "Wp_mpJJnxSjr",
        "outputId": "8551926a-f46d-49b5-a933-b5fb15ce2a9b"
      },
      "execution_count": 30,
      "outputs": [
        {
          "output_type": "stream",
          "name": "stdout",
          "text": [
            "Reversed string: nohtyP\n"
          ]
        }
      ]
    },
    {
      "cell_type": "code",
      "source": [
        "# 15.Write a Python program to calculate the factorial of a number provided by the user using a while loop.\n",
        "\n",
        "num = int(input(\"Enter a number: \"))\n",
        "fact = 1\n",
        "i = 1\n",
        "\n",
        "while i <= num:\n",
        "    fact *= i\n",
        "    i += 1\n",
        "\n",
        "print(\"Factorial:\", fact)\n"
      ],
      "metadata": {
        "id": "EJqUdrL8yVzo"
      },
      "execution_count": null,
      "outputs": []
    }
  ]
}