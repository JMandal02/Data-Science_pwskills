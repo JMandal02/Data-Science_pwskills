{
  "nbformat": 4,
  "nbformat_minor": 0,
  "metadata": {
    "colab": {
      "provenance": [],
      "authorship_tag": "ABX9TyO57AFTOXw9AP02TbwHIF9I",
      "include_colab_link": true
    },
    "kernelspec": {
      "name": "python3",
      "display_name": "Python 3"
    },
    "language_info": {
      "name": "python"
    }
  },
  "cells": [
    {
      "cell_type": "markdown",
      "metadata": {
        "id": "view-in-github",
        "colab_type": "text"
      },
      "source": [
        "<a href=\"https://colab.research.google.com/github/JMandal02/Data-Science_pwskills/blob/main/Assignment_OOPS_Assignment.ipynb\" target=\"_parent\"><img src=\"https://colab.research.google.com/assets/colab-badge.svg\" alt=\"Open In Colab\"/></a>"
      ]
    },
    {
      "cell_type": "markdown",
      "source": [
        "**1. What is Object-Oriented Programming (OOP)?**\n",
        "\n",
        "  - OOP is a programming paradigm based on the concept of \"objects\", which contain data and code: data in the form of fields (attributes), and code in the form of procedures (methods). It promotes code reuse and modularity.\n",
        "\n",
        "**2. What is a class in OOP?**\n",
        "\n",
        "  - A class is a blueprint for creating objects. It defines attributes and methods that the created objects (instances) will have.\n",
        "\n",
        "**3. What is an object in OOP?**\n",
        "\n",
        "  - An object is an instance of a class. It holds actual data and can use the class’s methods.\n",
        "\n",
        "**4. What is the difference between abstraction and encapsulation?**\n",
        "\n",
        "  - **Abstraction** hides implementation details and shows only the functionality.\n",
        "\n",
        "  - **Encapsulation** hides data by wrapping it inside classes and restricting direct access using access modifiers.\n",
        "\n",
        "**5. What are dunder methods in Python?**\n",
        "\n",
        "  - Dunder (double underscore) methods are special methods like ``__init__ ``, ``__str__``, ``__repr__``, used for operator overloading and object lifecycle management.\n",
        "\n",
        "**6. Explain the concept of inheritance in OOP.**\n",
        "  - Inheritance allows a class (child) to acquire attributes and methods from another class (parent), promoting code reuse.\n",
        "\n",
        "**7. What is polymorphism in OOP?**\n",
        "  - Polymorphism means the same method can behave differently based on the object calling it, either via method overriding or overloading.\n",
        "\n",
        "**8. How is encapsulation achieved in Python?**\n",
        "  - Encapsulation is achieved using private (``__var``) or protected (``_var``) access modifiers and providing getter/setter methods.\n",
        "\n",
        "**9. What is a constructor in Python?**\n",
        "  - A constructor is a special method named ``__init__`` that gets called automatically when an object is instantiated.\n",
        "\n",
        "**10. What are class and static methods in Python?**\n",
        "\n",
        "  - Class method uses ``@classmethod`` and takes ``cls`` as the first argument.\n",
        "\n",
        "  - Static method uses ``@staticmethod`` and takes no implicit first argument.\n",
        "\n",
        "**11. What is method overloading in Python?**\n",
        "  - Python does not support traditional method overloading. It can be simulated using default arguments or ``*args``.\n",
        "\n",
        "**12. What is method overriding in OOP?**\n",
        "\n",
        "  - Method overriding allows a child class to provide a specific implementation of a method already defined in its parent class.\n",
        "\n",
        "**13. What is a property decorator in Python?**\n",
        "  - ``@property`` allows a method to be accessed like an attribute, often used for getters/setters.\n",
        "\n",
        "**14. Why is polymorphism important in OOP?**\n",
        "  - It allows objects of different classes to be treated as objects of a common super class, enabling code reusability and flexibility.\n",
        "\n",
        "**15. What is an abstract class in Python?**\n",
        "  - An abstract class cannot be instantiated and may contain abstract methods defined using the abc module.\n",
        "\n",
        "**16. What are the advantages of OOP?**\n",
        "\n",
        "  - Modularity\n",
        "\n",
        "  - Reusability\n",
        "\n",
        "  - Extensibility\n",
        "\n",
        "  - Maintainability\n",
        "\n",
        "  - Real-world modeling\n",
        "\n",
        "**17. What is the difference between a class variable and an instance variable?**\n",
        "\n",
        "  - Class variable is shared among all instances.\n",
        "\n",
        "  - Instance variable is unique to each object.\n",
        "\n",
        "**18. What is multiple inheritance in Python?**\n",
        "  - It allows a class to inherit from more than one parent class, potentially leading to method resolution conflicts.\n",
        "\n",
        "**19. Explain the purpose of `` __str__`` and ``__repr__`` methods in Python.**\n",
        "\n",
        "  - ``__str__``: Returns a user-friendly string representation.\n",
        "\n",
        "  - ``__repr__``: Returns an unambiguous string (for developers).\n",
        "\n",
        "**20. What is the significance of the ``super()`` function in Python?**\n",
        "  - ``super()`` is used to call a method from the parent class, especially useful in method overriding.\n"
      ],
      "metadata": {
        "id": "zL0LzB58fHTJ"
      }
    },
    {
      "cell_type": "markdown",
      "source": [
        "**21. What is the significance of the`` __del__`` method in Python?**\n",
        "  - ``__del__`` is a destructor method called when an object is about to be destroyed to clean up resources.\n",
        "\n",
        "**22. What is the difference between ``@staticmethod`` and ``@classmethod`` in Python?**\n",
        "\n",
        "  - ``@staticmethod:`` Doesn’t access class or instance.\n",
        "\n",
        "  - ``@classmethod:`` Takes class ``(cls)`` as its first argument and can modify class state.\n",
        "\n",
        "**23. How does polymorphism work in Python with inheritance?**\n",
        "\n",
        "  - In Python, child classes can override parent methods. When the method is called on an object, the version in the actual object's class is executed.\n",
        "\n",
        "**24. What is method chaining in Python OOP?**\n",
        "  - It is the technique of calling multiple methods sequentially in a single line, typically by returning self.\n",
        "\n",
        "**25. What is the purpose of the ``__call__`` method in Python?**\n",
        "  - ``__call__`` makes an object callable like a function. It’s invoked when the object is followed by parentheses.\n",
        "\n"
      ],
      "metadata": {
        "id": "czxktZ-qgecr"
      }
    },
    {
      "cell_type": "markdown",
      "source": [
        "# **Practical Questions and Answers**"
      ],
      "metadata": {
        "id": "3RIBHPEYmcTD"
      }
    },
    {
      "cell_type": "code",
      "execution_count": null,
      "metadata": {
        "id": "V0VT0su8fCcB"
      },
      "outputs": [],
      "source": [
        "# 1. Create a parent class Animal with a method speak() that prints a generic message.\n",
        "#    Create a child class Dog that overrides the speak() method to print \"Bark!\".\n",
        "class Animal:\n",
        "    def speak(self):\n",
        "        print(\"Some generic animal sound\")\n",
        "\n",
        "class Dog(Animal):\n",
        "    def speak(self):\n",
        "        print(\"Bark!\")\n"
      ]
    },
    {
      "cell_type": "code",
      "source": [
        "# 2. Write a program to create an abstract class Shape with a method area().\n",
        "#    Derive classes Circle and Rectangle from it and implement the area() method in both.\n",
        "from abc import ABC, abstractmethod\n",
        "\n",
        "class Shape(ABC):\n",
        "    @abstractmethod\n",
        "    def area(self):\n",
        "        pass\n",
        "\n",
        "class Circle(Shape):\n",
        "    def __init__(self, radius):\n",
        "        self.radius = radius\n",
        "    def area(self):\n",
        "        return 3.14 * self.radius ** 2\n",
        "\n",
        "class Rectangle(Shape):\n",
        "    def __init__(self, length, width):\n",
        "        self.length = length\n",
        "        self.width = width\n",
        "    def area(self):\n",
        "        return self.length * self.width\n"
      ],
      "metadata": {
        "id": "ECp8UqUym9ca"
      },
      "execution_count": null,
      "outputs": []
    },
    {
      "cell_type": "code",
      "source": [
        "# 3. Implement a multi-level inheritance scenario where a class Vehicle has an attribute type.\n",
        "#    Derive a class Car and further derive a class ElectricCar that adds a battery attribute.\n",
        "class Vehicle:\n",
        "    def __init__(self, type):\n",
        "        self.type = type\n",
        "\n",
        "class Car(Vehicle):\n",
        "    def __init__(self, type, brand):\n",
        "        super().__init__(type)\n",
        "        self.brand = brand\n",
        "\n",
        "class ElectricCar(Car):\n",
        "    def __init__(self, type, brand, battery):\n",
        "        super().__init__(type, brand)\n",
        "        self.battery = battery\n"
      ],
      "metadata": {
        "id": "hW5IV1-Pm-FM"
      },
      "execution_count": null,
      "outputs": []
    },
    {
      "cell_type": "code",
      "source": [
        "# 4. Demonstrate polymorphism by creating a base class Bird with a method fly().\n",
        "#    Create two derived classes Sparrow and Penguin that override the fly() method.\n",
        "class Bird:\n",
        "    def fly(self):\n",
        "        print(\"Some birds can fly\")\n",
        "\n",
        "class Sparrow(Bird):\n",
        "    def fly(self):\n",
        "        print(\"Sparrow flies high\")\n",
        "\n",
        "class Penguin(Bird):\n",
        "    def fly(self):\n",
        "        print(\"Penguin cannot fly\")\n"
      ],
      "metadata": {
        "id": "1xehHguPnAXn"
      },
      "execution_count": null,
      "outputs": []
    },
    {
      "cell_type": "code",
      "source": [
        "# 5. Write a program to demonstrate encapsulation by creating a class BankAccount\n",
        "#    with private attributes balance and methods to deposit, withdraw, and check balance.\n",
        "class BankAccount:\n",
        "    def __init__(self):\n",
        "        self.__balance = 0\n",
        "\n",
        "    def deposit(self, amount):\n",
        "        self.__balance += amount\n",
        "\n",
        "    def withdraw(self, amount):\n",
        "        if amount <= self.__balance:\n",
        "            self.__balance -= amount\n",
        "\n",
        "    def get_balance(self):\n",
        "        return self.__balance\n"
      ],
      "metadata": {
        "id": "AE7_-6OtnNW2"
      },
      "execution_count": null,
      "outputs": []
    },
    {
      "cell_type": "code",
      "source": [
        "# 6. Demonstrate runtime polymorphism using a method play() in a base class Instrument.\n",
        "#    Derive classes Guitar and Piano that implement their own version of play().\n",
        "class Instrument:\n",
        "    def play(self):\n",
        "        print(\"Playing instrument\")\n",
        "\n",
        "class Guitar(Instrument):\n",
        "    def play(self):\n",
        "        print(\"Strumming the guitar\")\n",
        "\n",
        "class Piano(Instrument):\n",
        "    def play(self):\n",
        "        print(\"Playing the piano\")\n"
      ],
      "metadata": {
        "id": "fuoxYv_JnN3s"
      },
      "execution_count": null,
      "outputs": []
    },
    {
      "cell_type": "code",
      "source": [
        "# 7. Create a class MathOperations with a class method add_numbers() to add two numbers\n",
        "#    and a static method subtract_numbers() to subtract two numbers.\n",
        "class MathOperations:\n",
        "    @classmethod\n",
        "    def add_numbers(cls, a, b):\n",
        "        return a + b\n",
        "\n",
        "    @staticmethod\n",
        "    def subtract_numbers(a, b):\n",
        "        return a - b\n"
      ],
      "metadata": {
        "id": "IMmjVcM0nQ8z"
      },
      "execution_count": null,
      "outputs": []
    },
    {
      "cell_type": "code",
      "source": [
        "# 8. Implement a class Person with a class method to count the total number of persons created.\n",
        "class Person:\n",
        "    count = 0\n",
        "\n",
        "    def __init__(self, name):\n",
        "        self.name = name\n",
        "        Person.count += 1\n",
        "\n",
        "    @classmethod\n",
        "    def total_persons(cls):\n",
        "        return cls.count\n"
      ],
      "metadata": {
        "id": "N8Z7GItGnUKL"
      },
      "execution_count": null,
      "outputs": []
    },
    {
      "cell_type": "code",
      "source": [
        "# 9. Write a class Fraction with attributes numerator and denominator.\n",
        "#    Override the str method to display the fraction as \"numerator/denominator\".\n",
        "class Fraction:\n",
        "    def __init__(self, numerator, denominator):\n",
        "        self.numerator = numerator\n",
        "        self.denominator = denominator\n",
        "\n",
        "    def __str__(self):\n",
        "        return f\"{self.numerator}/{self.denominator}\"\n"
      ],
      "metadata": {
        "id": "q0yfZyj1nWri"
      },
      "execution_count": null,
      "outputs": []
    },
    {
      "cell_type": "code",
      "source": [
        "# 10. Demonstrate operator overloading by creating a class Vector\n",
        "#     and overriding the add method to add two vectors.\n",
        "class Vector:\n",
        "    def __init__(self, x, y):\n",
        "        self.x = x\n",
        "        self.y = y\n",
        "\n",
        "    def __add__(self, other):\n",
        "        return Vector(self.x + other.x, self.y + other.y)\n",
        "\n",
        "    def __str__(self):\n",
        "        return f\"({self.x}, {self.y})\"\n"
      ],
      "metadata": {
        "id": "1duCG0MbnY4l"
      },
      "execution_count": null,
      "outputs": []
    },
    {
      "cell_type": "code",
      "source": [
        "# 11. Create a class Person with attributes name and age.\n",
        "#     Add a method greet() that prints \"Hello, my name is {name} and I am {age} years old.\"\n",
        "class Person:\n",
        "    def __init__(self, name, age):\n",
        "        self.name = name\n",
        "        self.age = age\n",
        "\n",
        "    def greet(self):\n",
        "        print(f\"Hello, my name is {self.name} and I am {self.age} years old.\")\n"
      ],
      "metadata": {
        "id": "rjPqsjr7nbsB"
      },
      "execution_count": null,
      "outputs": []
    },
    {
      "cell_type": "code",
      "source": [
        "# 12. Implement a class Student with attributes name and grades.\n",
        "#     Create a method average_grade() to compute the average of the grades.\n",
        "class Student:\n",
        "    def __init__(self, name, grades):\n",
        "        self.name = name\n",
        "        self.grades = grades\n",
        "\n",
        "    def average_grade(self):\n",
        "        return sum(self.grades) / len(self.grades)\n"
      ],
      "metadata": {
        "id": "uv1ma1zendwz"
      },
      "execution_count": null,
      "outputs": []
    },
    {
      "cell_type": "code",
      "source": [
        "# 13. Create a class Rectangle with methods set_dimensions() to set the dimensions\n",
        "#     and area() to calculate the area.\n",
        "class Rectangle:\n",
        "    def set_dimensions(self, length, width):\n",
        "        self.length = length\n",
        "        self.width = width\n",
        "\n",
        "    def area(self):\n",
        "        return self.length * self.width\n"
      ],
      "metadata": {
        "id": "dIDfvK2Knf9o"
      },
      "execution_count": null,
      "outputs": []
    },
    {
      "cell_type": "code",
      "source": [
        "# 14. Create a class Employee with a method calculate_salary() that computes the salary\n",
        "#     based on hours worked and hourly rate. Create a derived class Manager that adds a bonus.\n",
        "class Employee:\n",
        "    def calculate_salary(self, hours, rate):\n",
        "        return hours * rate\n",
        "\n",
        "class Manager(Employee):\n",
        "    def calculate_salary(self, hours, rate, bonus):\n",
        "        return super().calculate_salary(hours, rate) + bonus\n"
      ],
      "metadata": {
        "id": "aMBsjK5KniF6"
      },
      "execution_count": null,
      "outputs": []
    },
    {
      "cell_type": "code",
      "source": [
        "# 15. Create a class Product with attributes name, price, and quantity.\n",
        "#     Implement a method total_price() that calculates the total price of the product.\n",
        "class Product:\n",
        "    def __init__(self, name, price, quantity):\n",
        "        self.name = name\n",
        "        self.price = price\n",
        "        self.quantity = quantity\n",
        "\n",
        "    def total_price(self):\n",
        "        return self.price * self.quantity\n"
      ],
      "metadata": {
        "id": "OcsIU86Qnkz8"
      },
      "execution_count": null,
      "outputs": []
    },
    {
      "cell_type": "code",
      "source": [
        "# 16. Create a class Animal with an abstract method sound().\n",
        "#     Create two derived classes Cow and Sheep that implement the sound() method.\n",
        "from abc import ABC, abstractmethod\n",
        "\n",
        "class Animal(ABC):\n",
        "    @abstractmethod\n",
        "    def sound(self):\n",
        "        pass\n",
        "\n",
        "class Cow(Animal):\n",
        "    def sound(self):\n",
        "        print(\"Moo\")\n",
        "\n",
        "class Sheep(Animal):\n",
        "    def sound(self):\n",
        "        print(\"Baa\")\n"
      ],
      "metadata": {
        "id": "QwnCd96cnmqa"
      },
      "execution_count": null,
      "outputs": []
    },
    {
      "cell_type": "code",
      "source": [
        "# 17. Create a class Book with attributes title, author, and year_published.\n",
        "#     Add a method get_book_info() that returns a formatted string with the book's details.\n",
        "class Book:\n",
        "    def __init__(self, title, author, year_published):\n",
        "        self.title = title\n",
        "        self.author = author\n",
        "        self.year_published = year_published\n",
        "\n",
        "    def get_book_info(self):\n",
        "        return f\"{self.title} by {self.author} ({self.year_published})\"\n"
      ],
      "metadata": {
        "id": "MmMfjbcvnog4"
      },
      "execution_count": null,
      "outputs": []
    },
    {
      "cell_type": "code",
      "source": [
        "# 18. Create a class House with attributes address and price.\n",
        "#     Create a derived class Mansion that adds an attribute number_of_rooms.\n",
        "class House:\n",
        "    def __init__(self, address, price):\n",
        "        self.address = address\n",
        "        self.price = price\n",
        "\n",
        "class Mansion(House):\n",
        "    def __init__(self, address, price, number_of_rooms):\n",
        "        super().__init__(address, price)\n",
        "        self.number_of_rooms = number_of_rooms\n"
      ],
      "metadata": {
        "id": "aYz--R7EnqvY"
      },
      "execution_count": null,
      "outputs": []
    }
  ]
}