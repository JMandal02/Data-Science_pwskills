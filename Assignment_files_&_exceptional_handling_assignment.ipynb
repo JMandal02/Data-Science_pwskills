{
  "nbformat": 4,
  "nbformat_minor": 0,
  "metadata": {
    "colab": {
      "provenance": [],
      "authorship_tag": "ABX9TyMm3F8jm0ogb+dvumDVQdu3",
      "include_colab_link": true
    },
    "kernelspec": {
      "name": "python3",
      "display_name": "Python 3"
    },
    "language_info": {
      "name": "python"
    }
  },
  "cells": [
    {
      "cell_type": "markdown",
      "metadata": {
        "id": "view-in-github",
        "colab_type": "text"
      },
      "source": [
        "<a href=\"https://colab.research.google.com/github/JMandal02/Data-Science_pwskills/blob/main/Assignment_files_%26_exceptional_handling_assignment.ipynb\" target=\"_parent\"><img src=\"https://colab.research.google.com/assets/colab-badge.svg\" alt=\"Open In Colab\"/></a>"
      ]
    },
    {
      "cell_type": "markdown",
      "source": [
        "# **Files, exceptional handling, logging and memory management Questions**"
      ],
      "metadata": {
        "id": "KBTN6HygvhRN"
      }
    },
    {
      "cell_type": "markdown",
      "source": [
        "**1. What is the difference between interpreted and compiled languages?**\n",
        "\n",
        "  - Compiled languages (e.g., C, C++) translate source code into machine code before execution, making them faster at runtime but requiring recompilation after changes.\n",
        "Interpreted languages (e.g., Python, JavaScript) execute code line-by-line through an interpreter, making development easier but generally slower.\n",
        "\n",
        "**2. What is exception handling in Python?**\n",
        "\n",
        "  - Exception handling is the process of catching and managing runtime errors to prevent program crashes. It is implemented using try, except, else, and finally blocks.\n",
        "\n",
        "**3. What is the purpose of the finally block in exception handling?**\n",
        "\n",
        "  - The finally block executes regardless of whether an exception occurred, typically used to close files, release resources, or clean up after execution.\n",
        "\n",
        "**4. What is logging in Python?**\n",
        "\n",
        "  - Logging is the process of recording events during program execution using the logging module. It helps track program flow, errors, and debugging information.\n",
        "\n",
        "**5. What is the significance of the ``__del__`` method in Python?**\n",
        "\n",
        "  - ``__del__`` is a destructor method in Python that is called when an object is about to be destroyed. It’s used for cleanup tasks like releasing resources.\n",
        "\n",
        "**6. What is the difference between ``import`` and ``from ... import`` in Python?**\n",
        "\n",
        "  - ``import module``: Imports the whole module and requires prefixing functions with the module name.\n",
        "  - ``from module import function``: Imports specific functions or variables directly, without the module prefix.\n",
        "\n",
        "**7. How can you handle multiple exceptions in Python?**\n",
        "\n",
        "  - You can use multiple except blocks or a tuple of exceptions:\n",
        "        try:\n",
        "            risky_operation()\n",
        "        except (ValueError, TypeError) as e:\n",
        "            print(e)\n",
        "\n",
        "**8. What is the purpose of the with statement when handling files in Python?**\n",
        "\n",
        "  - It ensures that files are properly closed after operations, even if exceptions occur, improving resource management.\n",
        "\n",
        "**9. What is the difference between multithreading and multiprocessing?**\n",
        "\n",
        "  - **Multithreading:** Multiple threads within the same process share memory space; best for I/O-bound tasks.\n",
        "  - **Multiprocessing:** Multiple processes run independently with separate memory spaces; best for CPU-bound tasks.\n",
        "\n",
        "**10. What are the advantages of using logging in a program?**\n",
        "\n",
        "  - Records events and errors for debugging\n",
        "  - Adjustable verbosity levels\n",
        "  - Can log to files or remote servers\n",
        "  - Provides timestamps and message formatting\n",
        "\n",
        "**11. What is memory management in Python**?\n",
        "\n",
        "  - Memory management in Python involves allocating and freeing memory automatically through a built-in garbage collector, while the developer can manage references and data structures efficiently.\n",
        "\n",
        "**12. What are the basic steps involved in exception handling in Python?**\n",
        "\n",
        "  1. Wrap risky code inside a try block\n",
        "  2. Catch exceptions with except blocks\n",
        "  3. Optionally use an else block for code that runs if no exceptions occur\n",
        "  4. Use finally to run cleanup code\n",
        "\n",
        "**13. Why is memory management important in Python?**\n",
        "\n",
        "  - It ensures optimal use of available memory, prevents memory leaks, improves performance, and avoids crashes due to excessive memory usage.\n",
        "\n",
        "**14. What is the role of try and except in exception handling?**\n",
        "\n",
        "  - try: Contains code that may raise an exception.\n",
        "  - except: Catches and handles exceptions, preventing the program from terminating unexpectedly.\n",
        "\n",
        "**15. How does Python's garbage collection system work?**\n",
        "\n",
        "  - Python uses reference counting to track object usage and a cyclic garbage collector to remove unused objects, freeing up memory.\n",
        "\n",
        "**16. What is the purpose of the else block in exception handling?**\n",
        "\n",
        "  - The else block runs only if no exception occurs in the try block, making it useful for code that should execute only when everything goes smoothly.\n",
        "\n",
        "**17. What are the common logging levels in Python?**\n",
        "\n",
        "- ``DEBUG``: Detailed information for diagnosing problems\n",
        "- ``INFO``: General program progress messages\n",
        "- ``WARNING``: Potential issues that are not errors\n",
        "- ``ERROR``: Serious issues causing part of the program to fail\n",
        "- ``CRITICAL``: Severe errors that may stop the program\n",
        "\n",
        "**18. What is the difference between os.fork() and multiprocessing in Python?**\n",
        "\n",
        "- ``os.fork()``: Works only on Unix-like systems, creates a new process by duplicating the current one.\n",
        "- ``multiprocessing``: Cross-platform module that creates processes with better control and features like process pools.\n",
        "\n",
        "**19. What is the importance of closing a file in Python?**\n",
        "\n",
        "  - Closing a file releases system resources, ensures data is written to disk, and prevents file corruption.\n",
        "\n",
        "**20. What is the difference between file.read() and file.readline() in Python?**\n",
        "\n",
        "- ``read()``: Reads the entire file or a specified number of characters at once.\n",
        "- ``readline()``: Reads one line at a time, useful for large files.\n",
        "\n",
        "**21. What is the logging module in Python used for?**\n",
        "\n",
        "  - he logging module provides a flexible way to record program messages with different severity levels, output destinations, and formats.\n",
        "\n",
        "**22. What is the os module in Python used for in file handling?**\n",
        "\n",
        "  - The os module allows interaction with the operating system, including file path operations, file creation/deletion, and directory management.\n",
        "\n",
        "**23. What are the challenges associated with memory management in Python?**\n",
        "\n",
        "- Memory fragmentation\n",
        "- Circular references\n",
        "- Large object storage\n",
        "- Managing memory in multi-threaded applications\n",
        "\n",
        "**24. How do you raise an exception manually in Python?**\n",
        "\n",
        "  - You can use the raise statement:\n",
        "\n",
        "        raise ValueError(\"Invalid input\")\n",
        "\n",
        "**25. Why is it important to use multithreading in certain applications?**\n",
        "\n",
        "  - Multithreading improves performance in I/O-bound programs, allows concurrent execution, and makes applications more responsive.\n"
      ],
      "metadata": {
        "id": "fhXoBku1jtca"
      }
    },
    {
      "cell_type": "markdown",
      "source": [
        "# **Practical Questions**"
      ],
      "metadata": {
        "id": "7IL2V05JyUYj"
      }
    },
    {
      "cell_type": "code",
      "execution_count": 1,
      "metadata": {
        "id": "cMfeZIOTjmwR"
      },
      "outputs": [],
      "source": [
        "# 1. How can you open a file for writing in Python and write a string to it\n",
        "\n",
        "with open(\"example.txt\", \"w\") as file:\n",
        "    file.write(\"Hello, this is a sample text.\")\n"
      ]
    },
    {
      "cell_type": "code",
      "source": [
        "# 2. Write a Python program to read the contents of a file and print each line\n",
        "\n",
        "with open(\"example.txt\", \"r\") as file:\n",
        "    for line in file:\n",
        "        print(line.strip())\n"
      ],
      "metadata": {
        "colab": {
          "base_uri": "https://localhost:8080/"
        },
        "id": "JpQGr46OwxGf",
        "outputId": "d83159c3-5f36-480b-f104-dcb6bfc20266"
      },
      "execution_count": 2,
      "outputs": [
        {
          "output_type": "stream",
          "name": "stdout",
          "text": [
            "Hello, this is a sample text.\n"
          ]
        }
      ]
    },
    {
      "cell_type": "code",
      "source": [
        "# 3. How would you handle a case where the file doesn't exist while trying to open it for reading\n",
        "\n",
        "try:\n",
        "    with open(\"nonexistent.txt\", \"r\") as file:\n",
        "        print(file.read())\n",
        "except FileNotFoundError:\n",
        "    print(\"File not found!\")\n"
      ],
      "metadata": {
        "colab": {
          "base_uri": "https://localhost:8080/"
        },
        "id": "jU9Uyoiywz-X",
        "outputId": "46171aed-3afa-4cf1-b651-36a980cd42f4"
      },
      "execution_count": 3,
      "outputs": [
        {
          "output_type": "stream",
          "name": "stdout",
          "text": [
            "File not found!\n"
          ]
        }
      ]
    },
    {
      "cell_type": "code",
      "source": [
        "# 4. Write a Python script that reads from one file and writes its content to another file\n",
        "\n",
        "with open(\"example.txt\", \"r\") as src:\n",
        "    content = src.read()\n",
        "\n",
        "with open(\"copy.txt\", \"w\") as dest:\n",
        "    dest.write(content)\n"
      ],
      "metadata": {
        "id": "1UzKii64w-fJ"
      },
      "execution_count": 4,
      "outputs": []
    },
    {
      "cell_type": "code",
      "source": [
        "# 5. How would you catch and handle division by zero error in Python\n",
        "\n",
        "try:\n",
        "    result = 10 / 0\n",
        "except ZeroDivisionError:\n",
        "    print(\"Division by zero is not allowed.\")\n"
      ],
      "metadata": {
        "colab": {
          "base_uri": "https://localhost:8080/"
        },
        "id": "ub8qv8IvxC7k",
        "outputId": "9dde7f88-c610-4a72-feb1-e5dcb07fcda9"
      },
      "execution_count": 5,
      "outputs": [
        {
          "output_type": "stream",
          "name": "stdout",
          "text": [
            "Division by zero is not allowed.\n"
          ]
        }
      ]
    },
    {
      "cell_type": "code",
      "source": [
        "# 6. Write a Python program that logs an error message to a log file when a division by zero exception occurs\n",
        "\n",
        "import logging\n",
        "logging.basicConfig(filename=\"errors.log\", level=logging.ERROR)\n",
        "\n",
        "try:\n",
        "    x = 10 / 0\n",
        "except ZeroDivisionError as e:\n",
        "    logging.error(f\"Error occurred: {e}\")\n"
      ],
      "metadata": {
        "colab": {
          "base_uri": "https://localhost:8080/"
        },
        "id": "b2Tre5JexPwA",
        "outputId": "758b3cca-5b88-440c-cfb4-bc7c96c25c64"
      },
      "execution_count": 6,
      "outputs": [
        {
          "output_type": "stream",
          "name": "stderr",
          "text": [
            "ERROR:root:Error occurred: division by zero\n"
          ]
        }
      ]
    },
    {
      "cell_type": "code",
      "source": [
        "# 7. How do you log information at different levels (INFO, ERROR, WARNING) in Python using the logging module\n",
        "\n",
        "import logging\n",
        "logging.basicConfig(filename=\"log_levels.log\", level=logging.DEBUG)\n",
        "\n",
        "logging.info(\"This is an info message\")\n",
        "logging.warning(\"This is a warning message\")\n",
        "logging.error(\"This is an error message\")\n"
      ],
      "metadata": {
        "colab": {
          "base_uri": "https://localhost:8080/"
        },
        "id": "LKYoD2EhxSx2",
        "outputId": "4b997d19-38a2-4b18-d3fa-e3a39076810b"
      },
      "execution_count": 7,
      "outputs": [
        {
          "output_type": "stream",
          "name": "stderr",
          "text": [
            "WARNING:root:This is a warning message\n",
            "ERROR:root:This is an error message\n"
          ]
        }
      ]
    },
    {
      "cell_type": "code",
      "source": [
        "# 8. Write a program to handle a file opening error using exception handling\n",
        "\n",
        "try:\n",
        "    with open(\"missing.txt\", \"r\") as file:\n",
        "        print(file.read())\n",
        "except FileNotFoundError:\n",
        "    print(\"File opening error: File does not exist.\")\n"
      ],
      "metadata": {
        "colab": {
          "base_uri": "https://localhost:8080/"
        },
        "id": "MYn930FrxVk-",
        "outputId": "f442c933-c8b3-474c-a9f7-cfdae051c5cc"
      },
      "execution_count": 8,
      "outputs": [
        {
          "output_type": "stream",
          "name": "stdout",
          "text": [
            "File opening error: File does not exist.\n"
          ]
        }
      ]
    },
    {
      "cell_type": "code",
      "source": [
        "# 9. How can you read a file line by line and store its content in a list in Python\n",
        "\n",
        "with open(\"example.txt\", \"r\") as file:\n",
        "    lines = file.readlines()\n",
        "\n",
        "print(lines)\n"
      ],
      "metadata": {
        "colab": {
          "base_uri": "https://localhost:8080/"
        },
        "id": "zYKoYNmJxXcz",
        "outputId": "5e6c878a-19aa-43f3-b5e7-2ef192769166"
      },
      "execution_count": 9,
      "outputs": [
        {
          "output_type": "stream",
          "name": "stdout",
          "text": [
            "['Hello, this is a sample text.']\n"
          ]
        }
      ]
    },
    {
      "cell_type": "code",
      "source": [
        "# 10. How can you append data to an existing file in Python\n",
        "\n",
        "with open(\"example.txt\", \"a\") as file:\n",
        "    file.write(\"\\nAppending new text.\")\n"
      ],
      "metadata": {
        "id": "q20X-pOsxZdI"
      },
      "execution_count": 10,
      "outputs": []
    },
    {
      "cell_type": "code",
      "source": [
        "# 11. Write a Python program that uses a try-except block to handle an error\n",
        "# when attempting to access a dictionary key that doesn't exist\n",
        "\n",
        "my_dict = {\"name\": \"Alice\"}\n",
        "\n",
        "try:\n",
        "    print(my_dict[\"age\"])\n",
        "except KeyError:\n",
        "    print(\"Key not found in dictionary.\")\n"
      ],
      "metadata": {
        "colab": {
          "base_uri": "https://localhost:8080/"
        },
        "id": "K5G7sedJxcRu",
        "outputId": "e208dbde-cd8c-49d3-e964-b14fe4224b3f"
      },
      "execution_count": 11,
      "outputs": [
        {
          "output_type": "stream",
          "name": "stdout",
          "text": [
            "Key not found in dictionary.\n"
          ]
        }
      ]
    },
    {
      "cell_type": "code",
      "source": [
        "# 12. Write a program that demonstrates using multiple except blocks\n",
        "# to handle different types of exceptions\n",
        "\n",
        "try:\n",
        "    num = int(\"abc\")  # This will raise ValueError\n",
        "except ValueError:\n",
        "    print(\"ValueError occurred.\")\n",
        "except TypeError:\n",
        "    print(\"TypeError occurred.\")\n"
      ],
      "metadata": {
        "colab": {
          "base_uri": "https://localhost:8080/"
        },
        "id": "fd03KEENxeQQ",
        "outputId": "eff78612-fed7-4e65-9f15-52bda7360d8d"
      },
      "execution_count": 12,
      "outputs": [
        {
          "output_type": "stream",
          "name": "stdout",
          "text": [
            "ValueError occurred.\n"
          ]
        }
      ]
    },
    {
      "cell_type": "code",
      "source": [
        "# 13. How would you check if a file exists before attempting to read it in Python\n",
        "\n",
        "import os\n",
        "\n",
        "if os.path.exists(\"example.txt\"):\n",
        "    with open(\"example.txt\", \"r\") as file:\n",
        "        print(file.read())\n",
        "else:\n",
        "    print(\"File does not exist.\")\n"
      ],
      "metadata": {
        "colab": {
          "base_uri": "https://localhost:8080/"
        },
        "id": "O006ALiaxhxH",
        "outputId": "8abc5ada-44da-4885-f570-73ea391cd15f"
      },
      "execution_count": 13,
      "outputs": [
        {
          "output_type": "stream",
          "name": "stdout",
          "text": [
            "Hello, this is a sample text.\n",
            "Appending new text.\n"
          ]
        }
      ]
    },
    {
      "cell_type": "code",
      "source": [
        "# 14. Write a program that uses the logging module to log both informational and error messages\n",
        "\n",
        "import logging\n",
        "logging.basicConfig(filename=\"info_error.log\", level=logging.DEBUG)\n",
        "\n",
        "logging.info(\"This is an informational message.\")\n",
        "logging.error(\"This is an error message.\")\n"
      ],
      "metadata": {
        "colab": {
          "base_uri": "https://localhost:8080/"
        },
        "id": "fN99QiBExjoF",
        "outputId": "54b814fa-5d0e-4cc6-cf9f-6c36ed8e6ce2"
      },
      "execution_count": 14,
      "outputs": [
        {
          "output_type": "stream",
          "name": "stderr",
          "text": [
            "ERROR:root:This is an error message.\n"
          ]
        }
      ]
    },
    {
      "cell_type": "code",
      "source": [
        "# 15. Write a Python program that prints the content of a file and handles the case when the file is empty\n",
        "\n",
        "with open(\"example.txt\", \"r\") as file:\n",
        "    content = file.read()\n",
        "    if content:\n",
        "        print(content)\n",
        "    else:\n",
        "        print(\"The file is empty.\")\n"
      ],
      "metadata": {
        "colab": {
          "base_uri": "https://localhost:8080/"
        },
        "id": "or3vqE0gxlXQ",
        "outputId": "835fcd23-930c-477e-ea26-3eb284d24908"
      },
      "execution_count": 15,
      "outputs": [
        {
          "output_type": "stream",
          "name": "stdout",
          "text": [
            "Hello, this is a sample text.\n",
            "Appending new text.\n"
          ]
        }
      ]
    },
    {
      "cell_type": "code",
      "source": [
        "# 16. Demonstrate how to use memory profiling to check the memory usage of a small program\n",
        "# Note: You need to install memory-profiler in Colab using: !pip install memory-profiler\n",
        "\n",
        "from memory_profiler import profile\n",
        "\n",
        "@profile\n",
        "def test_memory():\n",
        "    a = [i for i in range(100)]\n",
        "    return a\n",
        "\n",
        "test_memory()\n"
      ],
      "metadata": {
        "colab": {
          "base_uri": "https://localhost:8080/"
        },
        "id": "YnOzOVbcxoah",
        "outputId": "ca1f5a6c-0bd3-4d6b-ffd6-81216cd3ebf8"
      },
      "execution_count": 19,
      "outputs": [
        {
          "output_type": "stream",
          "name": "stdout",
          "text": [
            "ERROR: Could not find file /tmp/ipython-input-1450551415.py\n"
          ]
        },
        {
          "output_type": "execute_result",
          "data": {
            "text/plain": [
              "[0,\n",
              " 1,\n",
              " 2,\n",
              " 3,\n",
              " 4,\n",
              " 5,\n",
              " 6,\n",
              " 7,\n",
              " 8,\n",
              " 9,\n",
              " 10,\n",
              " 11,\n",
              " 12,\n",
              " 13,\n",
              " 14,\n",
              " 15,\n",
              " 16,\n",
              " 17,\n",
              " 18,\n",
              " 19,\n",
              " 20,\n",
              " 21,\n",
              " 22,\n",
              " 23,\n",
              " 24,\n",
              " 25,\n",
              " 26,\n",
              " 27,\n",
              " 28,\n",
              " 29,\n",
              " 30,\n",
              " 31,\n",
              " 32,\n",
              " 33,\n",
              " 34,\n",
              " 35,\n",
              " 36,\n",
              " 37,\n",
              " 38,\n",
              " 39,\n",
              " 40,\n",
              " 41,\n",
              " 42,\n",
              " 43,\n",
              " 44,\n",
              " 45,\n",
              " 46,\n",
              " 47,\n",
              " 48,\n",
              " 49,\n",
              " 50,\n",
              " 51,\n",
              " 52,\n",
              " 53,\n",
              " 54,\n",
              " 55,\n",
              " 56,\n",
              " 57,\n",
              " 58,\n",
              " 59,\n",
              " 60,\n",
              " 61,\n",
              " 62,\n",
              " 63,\n",
              " 64,\n",
              " 65,\n",
              " 66,\n",
              " 67,\n",
              " 68,\n",
              " 69,\n",
              " 70,\n",
              " 71,\n",
              " 72,\n",
              " 73,\n",
              " 74,\n",
              " 75,\n",
              " 76,\n",
              " 77,\n",
              " 78,\n",
              " 79,\n",
              " 80,\n",
              " 81,\n",
              " 82,\n",
              " 83,\n",
              " 84,\n",
              " 85,\n",
              " 86,\n",
              " 87,\n",
              " 88,\n",
              " 89,\n",
              " 90,\n",
              " 91,\n",
              " 92,\n",
              " 93,\n",
              " 94,\n",
              " 95,\n",
              " 96,\n",
              " 97,\n",
              " 98,\n",
              " 99]"
            ]
          },
          "metadata": {},
          "execution_count": 19
        }
      ]
    },
    {
      "cell_type": "code",
      "source": [
        "# 17. Write a Python program to create and write a list of numbers to a file, one number per line\n",
        "\n",
        "numbers = [1, 2, 3, 4, 5]\n",
        "\n",
        "with open(\"numbers.txt\", \"w\") as file:\n",
        "    for num in numbers:\n",
        "        file.write(str(num) + \"\\n\")\n"
      ],
      "metadata": {
        "id": "ff0ooi0GxqF6"
      },
      "execution_count": 20,
      "outputs": []
    },
    {
      "cell_type": "code",
      "source": [
        "# 18. How would you implement a basic logging setup that logs to a file with rotation after 1MB\n",
        "\n",
        "import logging\n",
        "from logging.handlers import RotatingFileHandler\n",
        "\n",
        "handler = RotatingFileHandler(\"rotating.log\", maxBytes=1_000_000, backupCount=3)\n",
        "logger = logging.getLogger()\n",
        "logger.setLevel(logging.INFO)\n",
        "logger.addHandler(handler)\n",
        "\n",
        "logger.info(\"This is a rotating log example.\")\n"
      ],
      "metadata": {
        "colab": {
          "base_uri": "https://localhost:8080/"
        },
        "id": "81pLJHNTyD02",
        "outputId": "42c48c75-78c8-410e-b36e-7b8a4a7a151f"
      },
      "execution_count": 21,
      "outputs": [
        {
          "output_type": "stream",
          "name": "stderr",
          "text": [
            "INFO:root:This is a rotating log example.\n"
          ]
        }
      ]
    },
    {
      "cell_type": "code",
      "source": [
        "# 19. Write a program that handles both IndexError and KeyError using a try-except block\n",
        "\n",
        "try:\n",
        "    lst = [1, 2, 3]\n",
        "    print(lst[5])  # IndexError\n",
        "    d = {\"a\": 1}\n",
        "    print(d[\"b\"])  # KeyError\n",
        "except IndexError:\n",
        "    print(\"IndexError occurred.\")\n",
        "except KeyError:\n",
        "    print(\"KeyError occurred.\")\n"
      ],
      "metadata": {
        "colab": {
          "base_uri": "https://localhost:8080/"
        },
        "id": "-RdQKIRzyFSE",
        "outputId": "701722a7-fc2b-4a88-9bb3-fc55cfb1ffaf"
      },
      "execution_count": 22,
      "outputs": [
        {
          "output_type": "stream",
          "name": "stdout",
          "text": [
            "IndexError occurred.\n"
          ]
        }
      ]
    },
    {
      "cell_type": "code",
      "source": [
        "# 20. How would you open a file and read its contents using a context manager in Python\n",
        "\n",
        "with open(\"example.txt\", \"r\") as file:\n",
        "    print(file.read())\n"
      ],
      "metadata": {
        "colab": {
          "base_uri": "https://localhost:8080/"
        },
        "id": "OZkRO6OzyHBv",
        "outputId": "62335dd8-fc12-491b-a8be-99e4520208dc"
      },
      "execution_count": 23,
      "outputs": [
        {
          "output_type": "stream",
          "name": "stdout",
          "text": [
            "Hello, this is a sample text.\n",
            "Appending new text.\n"
          ]
        }
      ]
    },
    {
      "cell_type": "code",
      "source": [
        "# 21. Write a Python program that reads a file and prints the number of occurrences of a specific word\n",
        "\n",
        "word_to_count = \"sample\"\n",
        "\n",
        "with open(\"example.txt\", \"r\") as file:\n",
        "    text = file.read()\n",
        "\n",
        "count = text.split().count(word_to_count)\n",
        "print(f\"The word '{word_to_count}' appears {count} times.\")\n"
      ],
      "metadata": {
        "colab": {
          "base_uri": "https://localhost:8080/"
        },
        "id": "U1bngNx3yJCr",
        "outputId": "4fca64af-0236-4fdc-f3f5-3fbcff924a5a"
      },
      "execution_count": 24,
      "outputs": [
        {
          "output_type": "stream",
          "name": "stdout",
          "text": [
            "The word 'sample' appears 1 times.\n"
          ]
        }
      ]
    },
    {
      "cell_type": "code",
      "source": [
        "# 22. How can you check if a file is empty before attempting to read its contents\n",
        "\n",
        "import os\n",
        "\n",
        "if os.path.exists(\"example.txt\") and os.path.getsize(\"example.txt\") > 0:\n",
        "    with open(\"example.txt\", \"r\") as file:\n",
        "        print(file.read())\n",
        "else:\n",
        "    print(\"File is empty or does not exist.\")\n"
      ],
      "metadata": {
        "colab": {
          "base_uri": "https://localhost:8080/"
        },
        "id": "3o_uYaLpyK6H",
        "outputId": "910b351d-f8b9-4a81-a7d8-0dfce2e85684"
      },
      "execution_count": 25,
      "outputs": [
        {
          "output_type": "stream",
          "name": "stdout",
          "text": [
            "Hello, this is a sample text.\n",
            "Appending new text.\n"
          ]
        }
      ]
    },
    {
      "cell_type": "code",
      "source": [
        "# 23. Write a Python program that writes to a log file when an error occurs during file handling\n",
        "\n",
        "import logging\n",
        "\n",
        "try:\n",
        "    with open(\"non_existing.txt\", \"r\") as file:\n",
        "        print(file.read())\n",
        "except Exception as e:\n",
        "    logging.basicConfig(filename=\"file_error.log\", level=logging.ERROR)\n",
        "    logging.error(f\"File handling error: {e}\")\n"
      ],
      "metadata": {
        "colab": {
          "base_uri": "https://localhost:8080/"
        },
        "id": "GV-UuNysyNT-",
        "outputId": "26212458-face-423d-94d2-0688a8710bf8"
      },
      "execution_count": 26,
      "outputs": [
        {
          "output_type": "stream",
          "name": "stderr",
          "text": [
            "ERROR:root:File handling error: [Errno 2] No such file or directory: 'non_existing.txt'\n"
          ]
        }
      ]
    }
  ]
}