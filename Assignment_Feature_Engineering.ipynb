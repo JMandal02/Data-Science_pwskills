{
  "nbformat": 4,
  "nbformat_minor": 0,
  "metadata": {
    "colab": {
      "provenance": [],
      "authorship_tag": "ABX9TyPE4BeMGZOE36/HEDl5mVsc",
      "include_colab_link": true
    },
    "kernelspec": {
      "name": "python3",
      "display_name": "Python 3"
    },
    "language_info": {
      "name": "python"
    }
  },
  "cells": [
    {
      "cell_type": "markdown",
      "metadata": {
        "id": "view-in-github",
        "colab_type": "text"
      },
      "source": [
        "<a href=\"https://colab.research.google.com/github/JMandal02/Data-Science_pwskills/blob/main/Assignment_Feature_Engineering.ipynb\" target=\"_parent\"><img src=\"https://colab.research.google.com/assets/colab-badge.svg\" alt=\"Open In Colab\"/></a>"
      ]
    },
    {
      "cell_type": "markdown",
      "source": [
        "## **Q1: What is a parameter?**\n",
        "**Answer:**  \n",
        "A parameter is a numerical value that defines a model and is learned from data during training.  \n",
        "- Example: In linear regression `y = mx + b`, `m` (slope) and `b` (intercept) are parameters.\n"
      ],
      "metadata": {
        "id": "x8iOCKkelCxp"
      }
    },
    {
      "cell_type": "markdown",
      "source": [
        "## **Q2: What is correlation? What does negative correlation mean?**\n",
        "**Answer:**  \n",
        "- **Correlation**: A statistical measure that shows how strongly two variables are related.  \n",
        "- **Negative correlation**: When one variable increases, the other decreases.  \n",
        "\n",
        "Example: Temperature and demand for heaters (higher temperature → lower demand).\n"
      ],
      "metadata": {
        "id": "PyJHqDxFlIVR"
      }
    },
    {
      "cell_type": "code",
      "source": [
        "# Example code: Correlation in Python\n",
        "import pandas as pd\n",
        "data = pd.DataFrame({\n",
        "    \"Temperature\": [10, 20, 30, 40, 50],\n",
        "    \"Heater_Sales\": [100, 80, 60, 40, 20]\n",
        "})\n",
        "print(data.corr())\n"
      ],
      "metadata": {
        "colab": {
          "base_uri": "https://localhost:8080/"
        },
        "id": "Ubf9JJbvlJn-",
        "outputId": "216a846c-672f-4271-a002-ac4dafed0904"
      },
      "execution_count": 5,
      "outputs": [
        {
          "output_type": "stream",
          "name": "stdout",
          "text": [
            "              Temperature  Heater_Sales\n",
            "Temperature           1.0          -1.0\n",
            "Heater_Sales         -1.0           1.0\n"
          ]
        }
      ]
    },
    {
      "cell_type": "markdown",
      "source": [
        "## **Q3: Define Machine Learning. What are the main components in Machine Learning?**\n",
        "**Answer:**  \n",
        "Machine Learning is the process where systems learn patterns from data without being explicitly programmed.  \n",
        "\n",
        "**Main components:**  \n",
        "1. Data  \n",
        "2. Features  \n",
        "3. Model  \n",
        "4. Training (learning process)  \n",
        "5. Evaluation (testing)  \n"
      ],
      "metadata": {
        "id": "dQ9Sf2HclMsh"
      }
    },
    {
      "cell_type": "markdown",
      "source": [
        "## **Q4: How does loss value help in determining whether the model is good or not?**\n",
        "**Answer:**  \n",
        "Loss value measures the error between predicted output and actual output.  \n",
        "- **Low loss** → good model  \n",
        "- **High loss** → poor model  \n"
      ],
      "metadata": {
        "id": "p3qHShXElRTA"
      }
    },
    {
      "cell_type": "markdown",
      "source": [
        "## **Q5: What are continuous and categorical variables?**\n",
        "**Answer:**  \n",
        "- **Continuous variables**: Numeric values that can take infinitely many values (e.g., height, weight).  \n",
        "- **Categorical variables**: Represent categories or labels (e.g., gender, color).  \n"
      ],
      "metadata": {
        "id": "3bXbyOPYlUFi"
      }
    },
    {
      "cell_type": "markdown",
      "source": [
        "## **Q6: How do we handle categorical variables in Machine Learning?**\n",
        "**Answer:**  \n",
        "Common techniques:  \n",
        "1. **Label Encoding**  \n",
        "2. **One-Hot Encoding**  \n",
        "3. **Target Encoding**  \n",
        "\n"
      ],
      "metadata": {
        "id": "v0pU0npylV7z"
      }
    },
    {
      "cell_type": "code",
      "source": [
        "# Example: One-hot encoding\n",
        "import pandas as pd\n",
        "df = pd.DataFrame({'Color': ['Red','Blue','Green']})\n",
        "print(pd.get_dummies(df, columns=['Color']))\n"
      ],
      "metadata": {
        "colab": {
          "base_uri": "https://localhost:8080/"
        },
        "id": "geLWdm9SlZCh",
        "outputId": "0fb83b1e-25d9-4588-917b-18211c4520cc"
      },
      "execution_count": 6,
      "outputs": [
        {
          "output_type": "stream",
          "name": "stdout",
          "text": [
            "   Color_Blue  Color_Green  Color_Red\n",
            "0       False        False       True\n",
            "1        True        False      False\n",
            "2       False         True      False\n"
          ]
        }
      ]
    },
    {
      "cell_type": "markdown",
      "source": [
        "## **Q7: What do you mean by training and testing a dataset?**\n",
        "**Answer:**  \n",
        "- **Training dataset**: Used to teach the model (fit parameters).  \n",
        "- **Testing dataset**: Used to check how well the model performs on unseen data.  \n"
      ],
      "metadata": {
        "id": "hSKsR58ylX02"
      }
    },
    {
      "cell_type": "markdown",
      "source": [
        "## **Q8: What is sklearn.preprocessing?**\n",
        "**Answer:**  \n",
        "A module in Scikit-learn that provides functions for:  \n",
        "- Scaling (normalization/standardization)  \n",
        "- Encoding categorical variables  \n",
        "- Data transformations  \n"
      ],
      "metadata": {
        "id": "qrVa7EHgsUQW"
      }
    },
    {
      "cell_type": "markdown",
      "source": [
        "## **Q9: What is a Test set?**\n",
        "**Answer:**  \n",
        "A test set is the portion of the dataset reserved for evaluating model performance on unseen data.  \n"
      ],
      "metadata": {
        "id": "x9Btt8TXsW3S"
      }
    },
    {
      "cell_type": "markdown",
      "source": [
        "## **Q10: How do we split data for model fitting (training/testing) in Python? How do you approach an ML problem?**\n",
        "**Answer:**  \n",
        "**Steps to split data:** Use `train_test_split` in Scikit-learn.  \n",
        "**ML approach:**  \n",
        "1. Define the problem  \n",
        "2. Collect data  \n",
        "3. Perform EDA  \n",
        "4. Preprocess data  \n",
        "5. Select features  \n",
        "6. Train model  \n",
        "7. Evaluate model  \n"
      ],
      "metadata": {
        "id": "ISoz5cjbsZe0"
      }
    },
    {
      "cell_type": "code",
      "source": [
        "from sklearn.model_selection import train_test_split\n",
        "X = [[1],[2],[3],[4],[5]]\n",
        "y = [1,2,3,4,5]\n",
        "X_train, X_test, y_train, y_test = train_test_split(X,y,test_size=0.2,random_state=42)\n",
        "print(\"Train:\", X_train, y_train)\n",
        "print(\"Test:\", X_test, y_test)\n"
      ],
      "metadata": {
        "colab": {
          "base_uri": "https://localhost:8080/"
        },
        "id": "dm62hftClLok",
        "outputId": "199cb044-15ef-4bc1-94ce-565c4e2cce13"
      },
      "execution_count": 7,
      "outputs": [
        {
          "output_type": "stream",
          "name": "stdout",
          "text": [
            "Train: [[5], [3], [1], [4]] [5, 3, 1, 4]\n",
            "Test: [[2]] [2]\n"
          ]
        }
      ]
    },
    {
      "cell_type": "markdown",
      "source": [
        "## **Q11: Why do we have to perform EDA before fitting a model to the data?**\n",
        "**Answer:**  \n",
        "EDA (Exploratory Data Analysis) helps to:  \n",
        "- Detect missing values  \n",
        "- Find outliers  \n",
        "- Understand distributions  \n",
        "- Choose correct preprocessing methods  \n"
      ],
      "metadata": {
        "id": "Rxm0hDvtsa6d"
      }
    },
    {
      "cell_type": "markdown",
      "source": [
        "## **Q12: What is correlation?**\n",
        "**Answer:**  \n",
        "Correlation measures the relationship between two variables. (Already explained in Q2)  \n"
      ],
      "metadata": {
        "id": "spcB82MlskwZ"
      }
    },
    {
      "cell_type": "markdown",
      "source": [
        "## **Q13: What does negative correlation mean?**\n",
        "**Answer:**  \n",
        "Negative correlation means when one variable increases, the other decreases. (Covered in Q2)  \n"
      ],
      "metadata": {
        "id": "z6RG67qLsmVL"
      }
    },
    {
      "cell_type": "markdown",
      "source": [
        "## **Q14: How can you find correlation between variables in Python?**\n",
        "**Answer:**  \n",
        "Use `.corr()` function in Pandas or heatmap in Seaborn.  \n"
      ],
      "metadata": {
        "id": "wpn7M9VjspBe"
      }
    },
    {
      "cell_type": "code",
      "source": [
        "import seaborn as sns\n",
        "import matplotlib.pyplot as plt\n",
        "import numpy as np\n",
        "\n",
        "data = pd.DataFrame({'A': np.random.rand(10), 'B': np.random.rand(10)})\n",
        "print(data.corr())\n",
        "sns.heatmap(data.corr(), annot=True, cmap=\"coolwarm\")\n",
        "plt.show()\n"
      ],
      "metadata": {
        "colab": {
          "base_uri": "https://localhost:8080/",
          "height": 487
        },
        "id": "NH8yzeFHsiKe",
        "outputId": "8e4286ec-5033-488a-9f4e-33a7e8c29646"
      },
      "execution_count": 8,
      "outputs": [
        {
          "output_type": "stream",
          "name": "stdout",
          "text": [
            "          A         B\n",
            "A  1.000000 -0.018246\n",
            "B -0.018246  1.000000\n"
          ]
        },
        {
          "output_type": "display_data",
          "data": {
            "text/plain": [
              "<Figure size 640x480 with 2 Axes>"
            ],
            "image/png": "[encoded data removed]"
          },
          "metadata": {}
        }
      ]
    },
    {
      "cell_type": "markdown",
      "source": [
        "## **Q15: What is causation? Explain difference between correlation and causation.**\n",
        "**Answer:**  \n",
        "- **Correlation**: Two variables move together (e.g., ice cream sales & temperature).  \n",
        "- **Causation**: One variable directly affects another (e.g., smoking → lung cancer).  \n"
      ],
      "metadata": {
        "id": "SR6sacs1ss1h"
      }
    },
    {
      "cell_type": "markdown",
      "source": [
        "## **Q16: What is an Optimizer? What are different types of optimizers?**\n",
        "**Answer:**  \n",
        "An optimizer updates model parameters to minimize the loss function.  \n",
        "\n",
        "**Types:**  \n",
        "- Gradient Descent  \n",
        "- Stochastic Gradient Descent  \n",
        "- Adam  \n",
        "- RMSProp  \n"
      ],
      "metadata": {
        "id": "6GfcfKMYsujq"
      }
    },
    {
      "cell_type": "code",
      "source": [
        "# Example: Adam optimizer in TensorFlow/Keras\n",
        "import tensorflow as tf\n",
        "model = tf.keras.Sequential([tf.keras.layers.Dense(1, input_shape=(1,))])\n",
        "model.compile(optimizer='adam', loss='mse')\n"
      ],
      "metadata": {
        "colab": {
          "base_uri": "https://localhost:8080/"
        },
        "id": "fNfjFMH7srUV",
        "outputId": "df6d79d8-d139-4f9b-efdf-bd6b86c3b7b8"
      },
      "execution_count": 9,
      "outputs": [
        {
          "output_type": "stream",
          "name": "stderr",
          "text": [
            "/usr/local/lib/python3.12/dist-packages/keras/src/layers/core/dense.py:93: UserWarning: Do not pass an `input_shape`/`input_dim` argument to a layer. When using Sequential models, prefer using an `Input(shape)` object as the first layer in the model instead.\n",
            "  super().__init__(activity_regularizer=activity_regularizer, **kwargs)\n"
          ]
        }
      ]
    },
    {
      "cell_type": "markdown",
      "source": [
        "## **Q17: What is sklearn.linear_model?**\n",
        "**Answer:**  \n",
        "A module in Scikit-learn that provides linear models like:  \n",
        "- Linear Regression  \n",
        "- Logistic Regression  \n",
        "- Ridge, Lasso regression  \n"
      ],
      "metadata": {
        "id": "SyI8lGU-sy1M"
      }
    },
    {
      "cell_type": "markdown",
      "source": [
        "## **Q18: What does model.fit() do?**\n",
        "**Answer:**  \n",
        "Trains the model on training data.  \n",
        "**Arguments:** Features (X), Target (y), optional parameters (epochs, batch_size, etc.).  \n"
      ],
      "metadata": {
        "id": "Cjn2Ctmvs1fk"
      }
    },
    {
      "cell_type": "markdown",
      "source": [
        "## **Q19: What does model.predict() do?**\n",
        "**Answer:**  \n",
        "Uses the trained model to generate predictions on new/unseen data.  \n",
        "**Arguments:** Input features (X).  \n"
      ],
      "metadata": {
        "id": "i3qjyqIqs3cP"
      }
    },
    {
      "cell_type": "markdown",
      "source": [
        "## **Q20: What are continuous and categorical variables?**\n",
        "**Answer:**  \n",
        "- **Continuous variables**: Numeric values that can take infinitely many values (e.g., height, weight).  \n",
        "- **Categorical variables**: Represent categories or labels (e.g., gender, color).  \n"
      ],
      "metadata": {
        "id": "NTIr3qZYs5TA"
      }
    },
    {
      "cell_type": "markdown",
      "source": [
        "\n",
        "## **Q21: What is feature scaling? How does it help in Machine Learning?**\n",
        "**Answer:**  \n",
        "Feature scaling normalizes features to a common scale so that no feature dominates others.  \n",
        "- Helps gradient descent converge faster.  \n",
        "- Prevents bias toward larger-scale variables.  \n",
        "\n"
      ],
      "metadata": {
        "id": "af4dYRWltDK1"
      }
    },
    {
      "cell_type": "markdown",
      "source": [
        "## **Q22: How do we perform scaling in Python?**\n",
        "**Answer:**  \n",
        "Use `StandardScaler` or `MinMaxScaler` from `sklearn.preprocessing`.  \n"
      ],
      "metadata": {
        "id": "Q1hA3IzGtLry"
      }
    },
    {
      "cell_type": "code",
      "source": [
        "from sklearn.preprocessing import StandardScaler\n",
        "scaler = StandardScaler()\n",
        "X = [[1],[2],[3],[4],[5]]\n",
        "X_scaled = scaler.fit_transform(X)\n",
        "print(X_scaled)\n"
      ],
      "metadata": {
        "colab": {
          "base_uri": "https://localhost:8080/"
        },
        "id": "qlOkntoZswyd",
        "outputId": "73feabbe-516b-4a4a-dcff-6f6cc8821c9a"
      },
      "execution_count": 10,
      "outputs": [
        {
          "output_type": "stream",
          "name": "stdout",
          "text": [
            "[[-1.41421356]\n",
            " [-0.70710678]\n",
            " [ 0.        ]\n",
            " [ 0.70710678]\n",
            " [ 1.41421356]]\n"
          ]
        }
      ]
    },
    {
      "cell_type": "markdown",
      "source": [
        "## **Q23: What is sklearn.preprocessing?**\n",
        "**Answer:**  \n",
        "A module in Scikit-learn used for:  \n",
        "- Feature scaling  \n",
        "- Normalization  \n",
        "- Encoding categorical variables  \n"
      ],
      "metadata": {
        "id": "S5bfO12PtPMF"
      }
    },
    {
      "cell_type": "markdown",
      "source": [
        "## **Q24: How do we split data for model fitting (training/testing) in Python?**\n",
        "**Answer:**  \n",
        "We use the `train_test_split()` function from **scikit-learn** to divide the dataset into **training** and **testing** sets.  \n",
        "\n",
        "- **Training set** → Used to train the model.  \n",
        "- **Testing set** → Used to evaluate how well the model performs on unseen data.  \n",
        "\n",
        "**Syntax:**  \n",
        "```python\n",
        "train_test_split(X, y, test_size=0.2, random_state=42)\n"
      ],
      "metadata": {
        "id": "L8TMgV9CtQqA"
      }
    },
    {
      "cell_type": "markdown",
      "source": [
        "## **Q25: Explain data encoding?**\n",
        "**Answer:**  \n",
        "Encoding converts categorical variables into numerical format so ML models can use them.  \n",
        "\n",
        "**Types:**  \n",
        "1. Label Encoding  \n",
        "2. One-Hot Encoding  \n",
        "3. Ordinal Encoding  \n"
      ],
      "metadata": {
        "id": "gQLAjrUxtTYM"
      }
    },
    {
      "cell_type": "code",
      "source": [
        "# Example: Label Encoding\n",
        "from sklearn.preprocessing import LabelEncoder\n",
        "le = LabelEncoder()\n",
        "labels = le.fit_transform(['Red','Blue','Green','Blue'])\n",
        "print(labels)\n"
      ],
      "metadata": {
        "colab": {
          "base_uri": "https://localhost:8080/"
        },
        "id": "xW1mYiAltNse",
        "outputId": "2ee6dde9-6e45-446d-d81d-d3576aeb518e"
      },
      "execution_count": 11,
      "outputs": [
        {
          "output_type": "stream",
          "name": "stdout",
          "text": [
            "[2 0 1 0]\n"
          ]
        }
      ]
    }
  ]
}