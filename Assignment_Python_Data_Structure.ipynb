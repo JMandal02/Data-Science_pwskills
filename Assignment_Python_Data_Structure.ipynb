{
  "nbformat": 4,
  "nbformat_minor": 0,
  "metadata": {
    "colab": {
      "provenance": [],
      "authorship_tag": "ABX9TyNJqKjkggQ0zpDMrx8L5C10",
      "include_colab_link": true
    },
    "kernelspec": {
      "name": "python3",
      "display_name": "Python 3"
    },
    "language_info": {
      "name": "python"
    }
  },
  "cells": [
    {
      "cell_type": "markdown",
      "metadata": {
        "id": "view-in-github",
        "colab_type": "text"
      },
      "source": [
        "<a href=\"https://colab.research.google.com/github/JMandal02/Data-Science_pwskills/blob/main/Assignment_Python_Data_Structure.ipynb\" target=\"_parent\"><img src=\"https://colab.research.google.com/assets/colab-badge.svg\" alt=\"Open In Colab\"/></a>"
      ]
    },
    {
      "cell_type": "markdown",
      "source": [
        "# **Data Types and Structures Questions**"
      ],
      "metadata": {
        "id": "H8zMwWNgVFTa"
      }
    },
    {
      "cell_type": "markdown",
      "source": [
        "**1. What are data structures, and why are they important?**\n",
        "  \n",
        "  - Data structures are ways to store and organize data for efficient access and modification. They're crucial in programming for optimizing time and memory usage, enabling faster algorithm implementation and effective data management.\n",
        "\n",
        "**2. Explain the difference between mutable and immutable data types with examples.**\n",
        "\n",
        "- **Mutable:** Can be changed after creation. Example: list, dict.\n",
        "       \n",
        "        a = [1, 2, 3]\n",
        "\n",
        "        a[0] = 10\n",
        "\n",
        "- **Immutable:** Cannot be changed after creation. Example: int, str, tuple.\n",
        "        \n",
        "        b = \"hello\"\n",
        "\n",
        "        b[0] = 'H'  \n",
        "    \n",
        "**3.What are the main differences between lists and tuples in Python?**\n",
        "\n",
        "  - Lists are mutable, tuples are immutable.\n",
        "\n",
        "  - Lists use more memory, tuples are faster to access.\n",
        "\n",
        "            list1 = [1, 2, 3]\n",
        "  \n",
        "            tuple1 = (1, 2, 3)\n",
        "\n",
        "**4.Describe how dictionaries store data.**\n",
        "  - Dictionaries store data in key-value pairs using hash tables, enabling fast access via keys.\n",
        "\n",
        "**5.Why might you use a set instead of a list in Python?**\n",
        "\n",
        "  - Sets store unique items and offer faster lookup and membership testing than lists.\n",
        "\n",
        "**6.What is a string in Python, and how is it different from a list?**\n",
        "\n",
        "  - A string is an immutable sequence of characters. A list can contain elements of any type and is mutable.\n",
        "\n",
        "**7.How do tuples ensure data integrity in Python?**\n",
        "\n",
        "\n",
        "  - Their immutability prevents accidental modification, preserving the data as it is.\n",
        "\n",
        "**8.What is a hash table, and how does it relate to dictionaries in Python?**\n",
        "\n",
        "  - A hash table maps keys to values using a hashing function — Python dictionaries use this internally.\n",
        "\n",
        "**9.Can lists contain different data types in Python?**\n",
        "  - Yes, Python lists can hold mixed types:\n",
        "  \n",
        "     mixed = [1, \"hello\", 3.5]\n",
        "\n",
        "**10. Explain why strings are immutable in Python.**\n",
        "  - To ensure consistency, thread safety, and allow internal optimizations (e.g., interning).\n",
        "\n",
        "**11. What advantages do dictionaries offer over lists for certain tasks?**\n",
        "  - Faster lookup by key, better for representing relationships or mappings.\n",
        "\n",
        "**12. Describe a scenario where using a tuple would be preferable over a list.**\n",
        "  - When you need a fixed collection of values that should not change, like coordinates (x, y).\n",
        "\n",
        "**13. How do sets handle duplicate values in Python?**\n",
        "  - Sets automatically remove duplicate entries:\n",
        "\n",
        "        s = {1, 2, 2, 3}\n",
        "\n",
        "**14. How does the “in” keyword work differently for lists and dictionaries?**\n",
        "\n",
        "  - Lists: checks for values.\n",
        "\n",
        "  - Dictionaries: checks for keys.\n",
        "\n",
        "**15. Can you modify the elements of a tuple? Explain why or why not.**\n",
        "\n",
        "  - No. Tuples are immutable:\n",
        "    \n",
        "        t = (1, 2, 3)\n",
        "\n",
        "        t[0] = 10  # Error\n",
        "\n",
        "\n",
        "**16. What is a nested dictionary, and give an example of its use case.**\n",
        "\n",
        "  - A dictionary within another:\n",
        "\n",
        "\n",
        "        person = {\"name\": \"John\", \"address\": {\"city\": \"Delhi\", \"zip\": \"110001\"}}\n",
        "\n",
        "**17. Describe the time complexity of accessing elements in a dictionary.**\n",
        "\n",
        "  - Average-case: O(1) (constant time)\n",
        "\n",
        "**18. In what situations are lists preferred over dictionaries?**\n",
        "\n",
        "  - When order matters or only sequential data is stored, not key-value mappings.\n",
        "\n",
        "**19. Why are dictionaries considered unordered, and how does that affect data retrieval?**\n",
        "  - They didn't preserve insertion order; now they do, but logically order isn't guaranteed.\n",
        "\n",
        "**20. Explain the difference between a list and a dictionary in terms of data retrieval.**\n",
        "  - List: By index.\n",
        "\n",
        "  - Dict: By key."
      ],
      "metadata": {
        "id": "IxrxnqlxVPFo"
      }
    },
    {
      "cell_type": "markdown",
      "source": [
        "# **Practical Questions**"
      ],
      "metadata": {
        "id": "fSlilYvMw4PY"
      }
    },
    {
      "cell_type": "code",
      "source": [
        "# 1. Write a code to create a string with your name and print it\n",
        "name = \"Jyotirmoy\"\n",
        "print(name)"
      ],
      "metadata": {
        "colab": {
          "base_uri": "https://localhost:8080/"
        },
        "id": "zOsYbT3Zxarc",
        "outputId": "ecd4b481-a3b8-443f-f54f-4557118f4a72"
      },
      "execution_count": 1,
      "outputs": [
        {
          "output_type": "stream",
          "name": "stdout",
          "text": [
            "Jyotirmoy\n"
          ]
        }
      ]
    },
    {
      "cell_type": "code",
      "source": [
        "# 2. Write a code to find the length of the string \"Hello World\"\n",
        "print(len(\"Hello World\"))"
      ],
      "metadata": {
        "colab": {
          "base_uri": "https://localhost:8080/"
        },
        "id": "K_AwNV9kx-FD",
        "outputId": "cde31e4c-0c6a-417d-e790-203a9ef4b441"
      },
      "execution_count": 2,
      "outputs": [
        {
          "output_type": "stream",
          "name": "stdout",
          "text": [
            "11\n"
          ]
        }
      ]
    },
    {
      "cell_type": "code",
      "source": [
        "# 3. Write a code to slice the first 3 characters from the string \"Python Programming\"\n",
        "print(\"Python Programming\"[:3])"
      ],
      "metadata": {
        "colab": {
          "base_uri": "https://localhost:8080/"
        },
        "id": "TiZknBjMyAWl",
        "outputId": "f2b679a1-37c6-4fa7-ee6b-504e50112144"
      },
      "execution_count": 3,
      "outputs": [
        {
          "output_type": "stream",
          "name": "stdout",
          "text": [
            "Pyt\n"
          ]
        }
      ]
    },
    {
      "cell_type": "code",
      "source": [
        "# 4. Write a code to convert the string \"hello\" to uppercase\n",
        "print(\"hello\".upper())"
      ],
      "metadata": {
        "colab": {
          "base_uri": "https://localhost:8080/"
        },
        "id": "QGGx-B5PyCdF",
        "outputId": "28e97156-5f92-4ce7-80e5-66fe10b609a7"
      },
      "execution_count": 4,
      "outputs": [
        {
          "output_type": "stream",
          "name": "stdout",
          "text": [
            "HELLO\n"
          ]
        }
      ]
    },
    {
      "cell_type": "code",
      "source": [
        "# 5. Write a code to replace the word \"apple\" with \"orange\" in the string \"I like apple\"\n",
        "print(\"I like apple\".replace(\"apple\", \"orange\"))"
      ],
      "metadata": {
        "colab": {
          "base_uri": "https://localhost:8080/"
        },
        "id": "I0PudKlfyGCp",
        "outputId": "dc9e151d-7e86-442d-b5d2-55bf4e48c29e"
      },
      "execution_count": 5,
      "outputs": [
        {
          "output_type": "stream",
          "name": "stdout",
          "text": [
            "I like orange\n"
          ]
        }
      ]
    },
    {
      "cell_type": "code",
      "source": [
        "# 6. Write a code to create a list with numbers 1 to 5 and print it\n",
        "print(list(range(1, 6)))"
      ],
      "metadata": {
        "colab": {
          "base_uri": "https://localhost:8080/"
        },
        "id": "hYzTAqcWyH9E",
        "outputId": "c3831208-3799-494d-de86-a781bcd11411"
      },
      "execution_count": 6,
      "outputs": [
        {
          "output_type": "stream",
          "name": "stdout",
          "text": [
            "[1, 2, 3, 4, 5]\n"
          ]
        }
      ]
    },
    {
      "cell_type": "code",
      "source": [
        "# 7. Write a code to append the number 10 to the list [1, 2, 3, 4]\n",
        "lst = [1, 2, 3, 4]\n",
        "lst.append(10)\n",
        "print(lst)"
      ],
      "metadata": {
        "colab": {
          "base_uri": "https://localhost:8080/"
        },
        "id": "Eff3Of0oyJyM",
        "outputId": "6f9b11d2-2b32-44ae-88b4-52352c6c7848"
      },
      "execution_count": 7,
      "outputs": [
        {
          "output_type": "stream",
          "name": "stdout",
          "text": [
            "[1, 2, 3, 4, 10]\n"
          ]
        }
      ]
    },
    {
      "cell_type": "code",
      "source": [
        "# 8. Write a code to remove the number 3 from the list [1, 2, 3, 4, 5]\n",
        "lst2 = [1, 2, 3, 4, 5]\n",
        "lst2.remove(3)\n",
        "print(lst2)"
      ],
      "metadata": {
        "colab": {
          "base_uri": "https://localhost:8080/"
        },
        "id": "krnc5wKhyLsI",
        "outputId": "84c832d7-31a5-4e92-a57a-d66b5125d39c"
      },
      "execution_count": 8,
      "outputs": [
        {
          "output_type": "stream",
          "name": "stdout",
          "text": [
            "[1, 2, 4, 5]\n"
          ]
        }
      ]
    },
    {
      "cell_type": "code",
      "source": [
        "# 9. Write a code to access the second element in the list ['a', 'b', 'c', 'd']\n",
        "chars = ['a', 'b', 'c', 'd']\n",
        "print(chars[1])"
      ],
      "metadata": {
        "colab": {
          "base_uri": "https://localhost:8080/"
        },
        "id": "aFU-NJoYyNUp",
        "outputId": "2940f335-85b8-4eb0-b6ef-b887169eb1f5"
      },
      "execution_count": 9,
      "outputs": [
        {
          "output_type": "stream",
          "name": "stdout",
          "text": [
            "b\n"
          ]
        }
      ]
    },
    {
      "cell_type": "code",
      "source": [
        "# 10. Write a code to reverse the list [10, 20, 30, 40, 50]\n",
        "nums = [10, 20, 30, 40, 50]\n",
        "print(nums[::-1])"
      ],
      "metadata": {
        "colab": {
          "base_uri": "https://localhost:8080/"
        },
        "id": "TosxZ2CPyPh8",
        "outputId": "419df690-0954-405d-949b-861d6eb4f8cc"
      },
      "execution_count": 10,
      "outputs": [
        {
          "output_type": "stream",
          "name": "stdout",
          "text": [
            "[50, 40, 30, 20, 10]\n"
          ]
        }
      ]
    },
    {
      "cell_type": "code",
      "source": [
        "# 11. Write a code to create a tuple with the elements 100, 200, 300 and print it\n",
        "tup = (100, 200, 300)\n",
        "print(tup)"
      ],
      "metadata": {
        "colab": {
          "base_uri": "https://localhost:8080/"
        },
        "id": "ErbEj-BTyRSQ",
        "outputId": "c88499b2-527f-4b3f-e63e-4a93e6b49c24"
      },
      "execution_count": 11,
      "outputs": [
        {
          "output_type": "stream",
          "name": "stdout",
          "text": [
            "(100, 200, 300)\n"
          ]
        }
      ]
    },
    {
      "cell_type": "code",
      "source": [
        "# 12. Write a code to access the second-to-last element of the tuple ('red', 'green', 'blue', 'yellow')\n",
        "colors = ('red', 'green', 'blue', 'yellow')\n",
        "print(colors[-2])"
      ],
      "metadata": {
        "colab": {
          "base_uri": "https://localhost:8080/"
        },
        "id": "VwJFUnRWyULz",
        "outputId": "fbf1ff6b-8b08-47a3-a30e-721966785b35"
      },
      "execution_count": 12,
      "outputs": [
        {
          "output_type": "stream",
          "name": "stdout",
          "text": [
            "blue\n"
          ]
        }
      ]
    },
    {
      "cell_type": "code",
      "source": [
        "# 13. Write a code to find the minimum number in the tuple (10, 20, 5, 15)\n",
        "print(min((10, 20, 5, 15)))"
      ],
      "metadata": {
        "colab": {
          "base_uri": "https://localhost:8080/"
        },
        "id": "BKdd2TMjyV70",
        "outputId": "3e4483e1-9589-469f-a1bf-659bf4a1299c"
      },
      "execution_count": 13,
      "outputs": [
        {
          "output_type": "stream",
          "name": "stdout",
          "text": [
            "5\n"
          ]
        }
      ]
    },
    {
      "cell_type": "code",
      "source": [
        "# 14. Write a code to find the index of the element \"cat\" in the tuple ('dog', 'cat', 'rabbit')\n",
        "print(('dog', 'cat', 'rabbit').index(\"cat\"))"
      ],
      "metadata": {
        "colab": {
          "base_uri": "https://localhost:8080/"
        },
        "id": "DT43PZWVyZax",
        "outputId": "cdf98c9b-6c02-48d7-c6b1-982e1052db15"
      },
      "execution_count": 14,
      "outputs": [
        {
          "output_type": "stream",
          "name": "stdout",
          "text": [
            "1\n"
          ]
        }
      ]
    },
    {
      "cell_type": "code",
      "source": [
        "# 15. Write a code to create a tuple containing three different fruits and check if \"kiwi\" is in it\n",
        "fruits = (\"apple\", \"banana\", \"kiwi\")\n",
        "print(\"kiwi\" in fruits)"
      ],
      "metadata": {
        "colab": {
          "base_uri": "https://localhost:8080/"
        },
        "id": "eexWbpVfycWu",
        "outputId": "a1b1afa6-4886-4fcb-fbb4-813d2b6dfc98"
      },
      "execution_count": 15,
      "outputs": [
        {
          "output_type": "stream",
          "name": "stdout",
          "text": [
            "True\n"
          ]
        }
      ]
    },
    {
      "cell_type": "code",
      "source": [
        "# 16. Write a code to create a set with the elements 'a', 'b', 'c' and print it\n",
        "print(set(['a', 'b', 'c']))"
      ],
      "metadata": {
        "colab": {
          "base_uri": "https://localhost:8080/"
        },
        "id": "JrLb8lzUye68",
        "outputId": "de2a7a2e-0458-42ea-a5ef-d1afcb946742"
      },
      "execution_count": 16,
      "outputs": [
        {
          "output_type": "stream",
          "name": "stdout",
          "text": [
            "{'b', 'a', 'c'}\n"
          ]
        }
      ]
    },
    {
      "cell_type": "code",
      "source": [
        "# 17. Write a code to clear all elements from the set {1, 2, 3, 4, 5}\n",
        "s = {1, 2, 3, 4, 5}\n",
        "s.clear()\n",
        "print(s)"
      ],
      "metadata": {
        "colab": {
          "base_uri": "https://localhost:8080/"
        },
        "id": "F40SFb7mygsJ",
        "outputId": "a4c6e92a-b977-4724-afd4-16a3fc82174b"
      },
      "execution_count": 17,
      "outputs": [
        {
          "output_type": "stream",
          "name": "stdout",
          "text": [
            "set()\n"
          ]
        }
      ]
    },
    {
      "cell_type": "code",
      "source": [
        "# 18. Write a code to remove the element 4 from the set {1, 2, 3, 4}\n",
        "s2 = {1, 2, 3, 4}\n",
        "s2.remove(4)\n",
        "print(s2)"
      ],
      "metadata": {
        "colab": {
          "base_uri": "https://localhost:8080/"
        },
        "id": "LX9lY5Exyjfz",
        "outputId": "83d6bf45-ed24-4922-89d1-9526fe0a8d04"
      },
      "execution_count": 18,
      "outputs": [
        {
          "output_type": "stream",
          "name": "stdout",
          "text": [
            "{1, 2, 3}\n"
          ]
        }
      ]
    },
    {
      "cell_type": "code",
      "source": [
        "# 19. Write a code to find the union of two sets {1, 2, 3} and {3, 4, 5}\n",
        "print({1, 2, 3}.union({3, 4, 5}))"
      ],
      "metadata": {
        "colab": {
          "base_uri": "https://localhost:8080/"
        },
        "id": "zcadZ-p_ylaP",
        "outputId": "91c45f5c-5f97-46ad-f128-2efcfcc70d38"
      },
      "execution_count": 19,
      "outputs": [
        {
          "output_type": "stream",
          "name": "stdout",
          "text": [
            "{1, 2, 3, 4, 5}\n"
          ]
        }
      ]
    },
    {
      "cell_type": "code",
      "source": [
        "# 20. Write a code to find the intersection of two sets {1, 2, 3} and {2, 3, 4}\n",
        "print({1, 2, 3}.intersection({2, 3, 4}))"
      ],
      "metadata": {
        "colab": {
          "base_uri": "https://localhost:8080/"
        },
        "id": "VO6uq-6UynUM",
        "outputId": "a76d2e43-00b3-4470-9351-d0511c4f47f0"
      },
      "execution_count": 20,
      "outputs": [
        {
          "output_type": "stream",
          "name": "stdout",
          "text": [
            "{2, 3}\n"
          ]
        }
      ]
    },
    {
      "cell_type": "code",
      "source": [
        "# 21. Write a code to create a dictionary with the keys \"name\", \"age\", and \"city\", and print it\n",
        "person = {\"name\": \"Alice\", \"age\": 30, \"city\": \"Paris\"}\n",
        "print(person)"
      ],
      "metadata": {
        "colab": {
          "base_uri": "https://localhost:8080/"
        },
        "id": "kM8i-DSqyp0S",
        "outputId": "7e15a413-0254-44a6-d7f9-16b6254811d9"
      },
      "execution_count": 21,
      "outputs": [
        {
          "output_type": "stream",
          "name": "stdout",
          "text": [
            "{'name': 'Alice', 'age': 30, 'city': 'Paris'}\n"
          ]
        }
      ]
    },
    {
      "cell_type": "code",
      "source": [
        "# 22. Write a code to add a new key-value pair \"country\": \"USA\" to the dictionary {'name': 'John', 'age': 25}\n",
        "d = {'name': 'John', 'age': 25}\n",
        "d[\"country\"] = \"USA\"\n",
        "print(d)"
      ],
      "metadata": {
        "colab": {
          "base_uri": "https://localhost:8080/"
        },
        "id": "XRmpZaNUyr7p",
        "outputId": "e65fad86-6870-4181-c088-f66a781f944c"
      },
      "execution_count": 22,
      "outputs": [
        {
          "output_type": "stream",
          "name": "stdout",
          "text": [
            "{'name': 'John', 'age': 25, 'country': 'USA'}\n"
          ]
        }
      ]
    },
    {
      "cell_type": "code",
      "source": [
        "# 23. Write a code to access the value associated with the key \"name\" in the dictionary {'name': 'Alice', 'age': 30}\n",
        "print({'name': 'Alice', 'age': 30}[\"name\"])"
      ],
      "metadata": {
        "colab": {
          "base_uri": "https://localhost:8080/"
        },
        "id": "RWAHJit9yuZh",
        "outputId": "963f51e7-cd8c-4589-f8e5-77631ae6e34d"
      },
      "execution_count": 23,
      "outputs": [
        {
          "output_type": "stream",
          "name": "stdout",
          "text": [
            "Alice\n"
          ]
        }
      ]
    },
    {
      "cell_type": "code",
      "source": [
        "# 24. Write a code to remove the key \"age\" from the dictionary {'name': 'Bob', 'age': 22, 'city': 'New York'}\n",
        "d2 = {'name': 'Bob', 'age': 22, 'city': 'New York'}\n",
        "d2.pop(\"age\")\n",
        "print(d2)"
      ],
      "metadata": {
        "colab": {
          "base_uri": "https://localhost:8080/"
        },
        "id": "5snSs1ITywwR",
        "outputId": "1a2317b6-3486-460a-f0a1-9ba14eeb41d1"
      },
      "execution_count": 24,
      "outputs": [
        {
          "output_type": "stream",
          "name": "stdout",
          "text": [
            "{'name': 'Bob', 'city': 'New York'}\n"
          ]
        }
      ]
    },
    {
      "cell_type": "code",
      "source": [
        "# 25. Write a code to check if the key \"city\" exists in the dictionary {'name': 'Alice', 'city': 'Paris'}\n",
        "print(\"city\" in {'name': 'Alice', 'city': 'Paris'})"
      ],
      "metadata": {
        "colab": {
          "base_uri": "https://localhost:8080/"
        },
        "id": "wX_W3bVgy0O9",
        "outputId": "325f877a-430f-4a67-f03c-424c8761faba"
      },
      "execution_count": 25,
      "outputs": [
        {
          "output_type": "stream",
          "name": "stdout",
          "text": [
            "True\n"
          ]
        }
      ]
    },
    {
      "cell_type": "code",
      "source": [
        "# 26. Write a code to create a list, a tuple, and a dictionary, and print them all\n",
        "my_list = [1, 2, 3]\n",
        "my_tuple = (4, 5, 6)\n",
        "my_dict = {\"a\": 1, \"b\": 2}\n",
        "print(my_list, my_tuple, my_dict)"
      ],
      "metadata": {
        "colab": {
          "base_uri": "https://localhost:8080/"
        },
        "id": "7hcwlNsKy5vO",
        "outputId": "f58f68ad-8c3b-4cba-b648-d2fb4852dd9f"
      },
      "execution_count": 26,
      "outputs": [
        {
          "output_type": "stream",
          "name": "stdout",
          "text": [
            "[1, 2, 3] (4, 5, 6) {'a': 1, 'b': 2}\n"
          ]
        }
      ]
    },
    {
      "cell_type": "code",
      "source": [
        "# 27. Write a code to create a list of 5 random numbers between 1 and 100, sort it in ascending order, and print the result\n",
        "import random\n",
        "nums = random.sample(range(1, 101), 5)\n",
        "nums.sort()\n",
        "print(nums)"
      ],
      "metadata": {
        "colab": {
          "base_uri": "https://localhost:8080/"
        },
        "id": "TEUgrsiqy8KG",
        "outputId": "5d3797df-86c9-4c44-f39c-a0f096ba11d2"
      },
      "execution_count": 27,
      "outputs": [
        {
          "output_type": "stream",
          "name": "stdout",
          "text": [
            "[7, 19, 31, 80, 93]\n"
          ]
        }
      ]
    },
    {
      "cell_type": "code",
      "source": [
        "# 28. Write a code to create a list with strings and print the element at the third index\n",
        "strs = [\"zero\", \"one\", \"two\", \"three\", \"four\"]\n",
        "print(strs[3])"
      ],
      "metadata": {
        "colab": {
          "base_uri": "https://localhost:8080/"
        },
        "id": "1KGtlTz3y-Ha",
        "outputId": "62f77a05-7064-4a88-935c-1f477bf9a789"
      },
      "execution_count": 28,
      "outputs": [
        {
          "output_type": "stream",
          "name": "stdout",
          "text": [
            "three\n"
          ]
        }
      ]
    },
    {
      "cell_type": "code",
      "source": [
        "# 29. Write a code to combine two dictionaries into one and print the result\n",
        "d1 = {\"a\": 1}\n",
        "d2 = {\"b\": 2}\n",
        "combined = {**d1, **d2}\n",
        "print(combined)"
      ],
      "metadata": {
        "colab": {
          "base_uri": "https://localhost:8080/"
        },
        "id": "T2VxV8l7y_r8",
        "outputId": "d30b6c35-a9c5-4488-cfca-3f44b5bd657b"
      },
      "execution_count": 29,
      "outputs": [
        {
          "output_type": "stream",
          "name": "stdout",
          "text": [
            "{'a': 1, 'b': 2}\n"
          ]
        }
      ]
    },
    {
      "cell_type": "code",
      "source": [
        "# 30. Write a code to convert a list of strings into a set\n",
        "string_list = [\"apple\", \"banana\", \"apple\", \"orange\"]\n",
        "print(set(string_list))"
      ],
      "metadata": {
        "colab": {
          "base_uri": "https://localhost:8080/"
        },
        "id": "AvJMHoN3zBf3",
        "outputId": "a9278bc4-7821-471d-c789-d823a5392e67"
      },
      "execution_count": 30,
      "outputs": [
        {
          "output_type": "stream",
          "name": "stdout",
          "text": [
            "{'orange', 'banana', 'apple'}\n"
          ]
        }
      ]
    }
  ]
}