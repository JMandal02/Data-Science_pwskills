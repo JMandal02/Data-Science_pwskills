{
  "nbformat": 4,
  "nbformat_minor": 0,
  "metadata": {
    "colab": {
      "provenance": [],
      "authorship_tag": "ABX9TyN5a0iUW17HKZRwjPPj/Q0D",
      "include_colab_link": true
    },
    "kernelspec": {
      "name": "python3",
      "display_name": "Python 3"
    },
    "language_info": {
      "name": "python"
    }
  },
  "cells": [
    {
      "cell_type": "markdown",
      "metadata": {
        "id": "view-in-github",
        "colab_type": "text"
      },
      "source": [
        "<a href=\"https://colab.research.google.com/github/JMandal02/Data-Science_pwskills/blob/main/Assignment_Statistics_Advance_1.ipynb\" target=\"_parent\"><img src=\"https://colab.research.google.com/assets/colab-badge.svg\" alt=\"Open In Colab\"/></a>"
      ]
    },
    {
      "cell_type": "markdown",
      "source": [
        "**Assignment Code: DA-AG-006**"
      ],
      "metadata": {
        "id": "V7pSX8WKRyTS"
      }
    },
    {
      "cell_type": "markdown",
      "source": [
        "## **Assignment Solutions: Statistics Advanced - 1**"
      ],
      "metadata": {
        "id": "7pr1UpvuRsgj"
      }
    },
    {
      "cell_type": "markdown",
      "source": [
        "### Question 1: What is a random variable in probability theory?\n",
        "\n",
        "A **random variable** is a variable whose values are determined by the outcomes of a random experiment.\n",
        "\n",
        "- It assigns a numerical value to each possible outcome in a sample space.  \n",
        "- Random variables are of two main types: **discrete** (countable outcomes) and **continuous** (uncountable outcomes).\n",
        "\n",
        "Example:  \n",
        "- Tossing a coin → Random variable X = {0 for tails, 1 for heads}.  \n",
        "- Measuring height → Random variable Y = height in cm (continuous).  \n",
        "\n",
        "---\n",
        "\n",
        "### Question 2: What are the types of random variables?\n",
        "\n",
        "1. **Discrete Random Variables**\n",
        "   - Take finite or countable values.\n",
        "   - Example: Number of heads in 10 coin tosses.\n",
        "\n",
        "2. **Continuous Random Variables**\n",
        "   - Take infinite values within a range or interval.\n",
        "   - Example: Weight of a person (e.g., 60.35 kg).\n",
        "\n",
        "3. **Mixed Random Variables (less common)**\n",
        "   - Have both discrete and continuous components.\n",
        "\n",
        "---\n",
        "\n",
        "### Question 3: Explain the difference between discrete and continuous distributions.\n",
        "\n",
        "| Feature       | Discrete Distribution         | Continuous Distribution         |\n",
        "|---------------|-------------------------------|---------------------------------|\n",
        "| Definition    | Probability at specific values | Probability spread over intervals |\n",
        "| Probability   | P(X=x) is non-zero             | P(X=x) = 0, only intervals matter |\n",
        "| Example       | Binomial, Poisson             | Normal, Exponential             |\n",
        "| Visualization | Probability Mass Function (PMF) | Probability Density Function (PDF) |\n",
        "\n",
        "---\n",
        "\n",
        "### Question 4: What is a binomial distribution, and how is it used in probability?\n",
        "\n",
        "The **binomial distribution** describes the probability of obtaining exactly `k` successes in `n` independent Bernoulli trials, each with probability `p` of success.  \n",
        "\n",
        "Formula:  \n",
        "\n",
        "$$\n",
        "P(X = k) = \\binom{n}{k} p^k (1-p)^{n-k}\n",
        "$$  \n",
        "\n",
        "Uses:  \n",
        "- Coin tossing experiments.  \n",
        "- Defect rate in manufacturing.  \n",
        "- Survey responses (yes/no).  \n",
        "\n",
        "\n",
        "---\n",
        "\n",
        "### Question 5: What is the standard normal distribution, and why is it important?\n",
        "\n",
        "- A **standard normal distribution** is a normal distribution with **mean = 0** and **standard deviation = 1**.  \n",
        "- Denoted as:  \n",
        "  $$\n",
        "  Z \\sim N(0,1)\n",
        "  $$  \n",
        "\n",
        "**Importance:**  \n",
        "- Used in hypothesis testing and confidence intervals.  \n",
        "- Any normal variable can be standardized using:  \n",
        "\n",
        "$$\n",
        "Z = \\frac{X - \\mu}{\\sigma}\n",
        "$$\n",
        "\n",
        "\n",
        "---\n",
        "\n",
        "### Question 6: What is the Central Limit Theorem (CLT), and why is it critical in statistics?\n",
        "\n",
        "- The **Central Limit Theorem** states that the sampling distribution of the sample mean approaches a **normal distribution** as the sample size increases, regardless of the population’s distribution (if n ≥ 30).  \n",
        "\n",
        "Critical because:  \n",
        "- Enables use of normal distribution in real-world problems.  \n",
        "- Basis of confidence intervals and hypothesis testing.  \n",
        "\n",
        "---\n",
        "\n",
        "### Question 7: What is the significance of confidence intervals in statistical analysis?\n",
        "\n",
        "- A **confidence interval (CI)** gives a range of values within which the true population parameter is expected to lie with a certain probability (e.g., 95%).  \n",
        "\n",
        "Example:  \n",
        "If 95% CI for mean salary = [45k, 55k], we are 95% confident the true mean lies in this range.  \n",
        "\n",
        "---\n",
        "\n",
        "### Question 8: What is the concept of expected value in a probability distribution?\n",
        "\n",
        "- The **expected value (E[X])** is the long-run average of a random variable over many trials.  \n",
        "\n",
        "**Formula:**  \n",
        "\n",
        "- Discrete case:  \n",
        "$$\n",
        "E[X] = \\sum x_i \\, P(x_i)\n",
        "$$  \n",
        "\n",
        "- Continuous case:  \n",
        "$$\n",
        "E[X] = \\int x \\, f(x) \\, dx\n",
        "$$  \n",
        "\n",
        "**Example:** Expected value of a fair die:  \n",
        "$$\n",
        "E[X] = \\frac{1+2+3+4+5+6}{6} = 3.5\n",
        "$$\n",
        "\n",
        "\n",
        "---\n",
        "\n",
        "### Question 9: Python Program\n",
        "\n",
        "Generate 1000 random numbers from a normal distribution (mean=50, std=5), compute mean, std, and plot histogram.  \n"
      ],
      "metadata": {
        "id": "-rwT7vM_R7tK"
      }
    },
    {
      "cell_type": "code",
      "execution_count": null,
      "metadata": {
        "colab": {
          "base_uri": "https://localhost:8080/",
          "height": 507
        },
        "id": "juAaKLxfRnCr",
        "outputId": "241c26aa-fbd8-4baf-915e-2c647f8b70b9"
      },
      "outputs": [
        {
          "output_type": "stream",
          "name": "stdout",
          "text": [
            "Mean: 49.95121054160198\n",
            "Standard Deviation: 4.999341609856568\n"
          ]
        },
        {
          "output_type": "display_data",
          "data": {
            "text/plain": [
              "<Figure size 640x480 with 1 Axes>"
            ],
            "image/png": "[encoded data removed]"
          },
          "metadata": {}
        }
      ],
      "source": [
        "import numpy as np\n",
        "import matplotlib.pyplot as plt\n",
        "\n",
        "# Generate random numbers\n",
        "data = np.random.normal(loc=50, scale=5, size=1000)\n",
        "\n",
        "# Compute mean and std\n",
        "mean_val = np.mean(data)\n",
        "std_val = np.std(data)\n",
        "\n",
        "print(\"Mean:\", mean_val)\n",
        "print(\"Standard Deviation:\", std_val)\n",
        "\n",
        "# Plot histogram\n",
        "plt.hist(data, bins=30, edgecolor='black', alpha=0.7)\n",
        "plt.title(\"Normal Distribution (mean=50, std=5)\")\n",
        "plt.xlabel(\"Value\")\n",
        "plt.ylabel(\"Frequency\")\n",
        "plt.show()\n"
      ]
    },
    {
      "cell_type": "markdown",
      "source": [
        "### Question 10: Sales Data & Central Limit Theorem Application\n",
        "\n",
        "We have the dataset:\n",
        "\n",
        "```python\n",
        "daily_sales = [220, 245, 210, 265, 230, 250, 260, 275, 240, 255,\n",
        "               235, 260, 245, 250, 225, 270, 265, 255, 250, 260]\n"
      ],
      "metadata": {
        "id": "535lmSFXUWyn"
      }
    },
    {
      "cell_type": "markdown",
      "source": [
        "**Steps:**\n",
        "\n",
        "1. Compute mean and standard deviation.  \n",
        "\n",
        "2. Apply the Central Limit Theorem to compute the 95% Confidence Interval:  \n",
        "\n",
        "$$\n",
        "CI = \\bar{x} \\; \\pm \\; Z_{\\alpha/2} \\cdot \\frac{\\sigma}{\\sqrt{n}}\n",
        "$$  \n",
        "\n",
        "where:  \n",
        "\n",
        "- $ \\bar{x} $ = sample mean  \n",
        "- $ \\sigma $ = sample standard deviation  \n",
        "- $ n $ = sample size  \n",
        "- $ Z_{\\alpha/2} = 1.96 $ for a 95% confidence level  \n"
      ],
      "metadata": {
        "id": "94lzFFsdUmB2"
      }
    },
    {
      "cell_type": "code",
      "source": [
        "import numpy as np\n",
        "import scipy.stats as st\n",
        "\n",
        "daily_sales = [220, 245, 210, 265, 230, 250, 260, 275, 240, 255,\n",
        "               235, 260, 245, 250, 225, 270, 265, 255, 250, 260]\n",
        "\n",
        "# Mean and Std\n",
        "mean_sales = np.mean(daily_sales)\n",
        "std_sales = np.std(daily_sales, ddof=1)  # sample standard deviation\n",
        "n = len(daily_sales)\n",
        "\n",
        "# 95% Confidence Interval\n",
        "conf_interval = st.norm.interval(0.95, loc=mean_sales, scale=std_sales/np.sqrt(n))\n",
        "\n",
        "print(\"Mean Sales:\", mean_sales)\n",
        "print(\"95% Confidence Interval:\", conf_interval)\n"
      ],
      "metadata": {
        "colab": {
          "base_uri": "https://localhost:8080/"
        },
        "id": "xzLrj-CXUBqN",
        "outputId": "a78eed32-94b3-49a6-a285-db389ad696e3"
      },
      "execution_count": null,
      "outputs": [
        {
          "output_type": "stream",
          "name": "stdout",
          "text": [
            "Mean Sales: 248.25\n",
            "95% Confidence Interval: (np.float64(240.68326838343515), np.float64(255.81673161656485))\n"
          ]
        }
      ]
    }
  ]
}