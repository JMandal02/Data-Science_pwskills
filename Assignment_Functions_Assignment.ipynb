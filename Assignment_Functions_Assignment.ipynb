{
  "nbformat": 4,
  "nbformat_minor": 0,
  "metadata": {
    "colab": {
      "provenance": [],
      "authorship_tag": "ABX9TyPRbJvVfen212SwD8FA7AP7",
      "include_colab_link": true
    },
    "kernelspec": {
      "name": "python3",
      "display_name": "Python 3"
    },
    "language_info": {
      "name": "python"
    }
  },
  "cells": [
    {
      "cell_type": "markdown",
      "metadata": {
        "id": "view-in-github",
        "colab_type": "text"
      },
      "source": [
        "<a href=\"https://colab.research.google.com/github/JMandal02/Data-Science_pwskills/blob/main/Assignment_Functions_Assignment.ipynb\" target=\"_parent\"><img src=\"https://colab.research.google.com/assets/colab-badge.svg\" alt=\"Open In Colab\"/></a>"
      ]
    },
    {
      "cell_type": "markdown",
      "source": [
        "# **Theory Questions:**"
      ],
      "metadata": {
        "id": "kNNWPpcTERkC"
      }
    },
    {
      "cell_type": "markdown",
      "source": [
        "**1. What is the difference between a function and a method in Python?**\n",
        "\n",
        "**Answer:**\n",
        "\n",
        "  - In Python, both functions and methods are blocks of code that perform a specific task. However, the key difference is in how they are used:\n",
        "\n",
        "  - **Function:** A function is defined using the def keyword and can exist independently. It can be called by its name directly.\n",
        "\n",
        "        def greet():\n",
        "            print(\"Hello!\")\n",
        "        greet()\n",
        "\n",
        "  - **Method:** A method is associated with an object and is called using the dot . operator. It is defined inside a class.\n",
        "\n",
        "\n",
        "        class Person:\n",
        "            def greet(self):\n",
        "                print(\"Hello!\")\n",
        "        p = Person()\n",
        "        p.greet()\n",
        "\n",
        "\n",
        "**2.Explain the concept of function arguments and parameters in Python.**\n",
        "\n",
        "**Answer:**\n",
        "\n",
        "  - Parameters are the variables listed in a function definition.\n",
        "\n",
        "  - Arguments are the values passed to the function when calling it.\n",
        "\n",
        "**3. What are the different ways to define and call a function in Python?**\n",
        "\n",
        "**Answer:**\n",
        "\n",
        "  - Ways to define:\n",
        "\n",
        "     - Using def keyword\n",
        "\n",
        "     - Using lambda for anonymous functions\n",
        "\n",
        "  - Ways to call:\n",
        "\n",
        "     - Direct call with name and arguments\n",
        "\n",
        "     - Unpacking with *args and **kwargs\n",
        "\n",
        "\n",
        "**4. What is the purpose of the return statement in a Python function?**\n",
        "\n",
        "**Answer:**\n",
        "  - The return statement sends a result from the function back to the caller and ends the function execution.\n",
        "\n",
        "**5. What are iterators in Python and how do they differ from iterables?**\n",
        "\n",
        "**Answer:**\n",
        "\n",
        "  - An iterable is a collection (like a list or string) that can be looped over.\n",
        "\n",
        "  - An iterator is an object that produces the next value using next().\n",
        "\n",
        "**6. Explain the concept of generators in Python and how they are defined.**\n",
        "\n",
        "**Answer:**\n",
        "\n",
        "  - Generators are special functions that return an iterator and use yield instead of return. They generate values one at a time.\n",
        "\n",
        "**7. What are the advantages of using generators over regular functions?**\n",
        "\n",
        "**Answer:**\n",
        "\n",
        "  - Memory efficient: Values are generated on demand.\n",
        "\n",
        "  - Faster for large datasets.\n",
        "\n",
        "  - Clean syntax for iteration.\n",
        "\n",
        "**8.What is a lambda function in Python and when is it typically used?**\n",
        "\n",
        "**Answer:**\n",
        "  - A lambda function is an anonymous, one-line function.\n",
        "\n",
        "  - Used when a short function is needed temporarily (e.g., in map(), filter(), sort()).\n",
        "\n",
        "**9. Explain the purpose and usage of the map() function in Python.**\n",
        "\n",
        "**Answer:**\n",
        "  - map() applies a function to all elements in an iterable.\n",
        "\n",
        "  -Syntax: map(function, iterable)\n",
        "\n",
        "**10. What is the difference between map(), reduce(), and filter() functions in Python?**\n",
        "\n",
        "| Function   | Description                      | Example                             |\n",
        "|------------|----------------------------------|-------------------------------------|\n",
        "| `map()`    | Applies a function to all items  | `map(lambda x: x*2, [1, 2, 3])`     |\n",
        "| `filter()` | Filters items using a condition  | `filter(lambda x: x%2==0, [1, 2, 3])` |\n",
        "| `reduce()` | Reduces a list to a single value | `reduce(lambda x, y: x + y, [1, 2, 3])` |\n",
        "\n",
        "\n",
        "**11. Using pen & paper write the internal mechanism for sum operation using reduce() function on the list: [47, 11, 42, 13]**\n",
        "\n",
        "  - We simulate how reduce() applies the function step by step:\n",
        "\n",
        "  - Let’s say we use a lambda function:\n",
        "\n",
        "        reduce(lambda x, y: x + y, [47, 11, 42, 13])\n",
        "\n",
        "  - Here’s the step-by-step breakdown:\n",
        "\n",
        "        Step 1: 47 + 11 = 58\n",
        "\n",
        "        Step 2: 58 + 42 = 100\n",
        "\n",
        "        Step 3: 100 + 13 = 113"
      ],
      "metadata": {
        "id": "i3wfkyma74sS"
      }
    },
    {
      "cell_type": "markdown",
      "source": [
        "# **Practical Questions:**"
      ],
      "metadata": {
        "id": "osgA-AHqEaqX"
      }
    },
    {
      "cell_type": "code",
      "execution_count": 20,
      "metadata": {
        "colab": {
          "base_uri": "https://localhost:8080/"
        },
        "id": "qmaxsy5m7evf",
        "outputId": "3ab7d32f-e3dd-40ef-d705-635fd7faf46f"
      },
      "outputs": [
        {
          "output_type": "stream",
          "name": "stdout",
          "text": [
            "60\n"
          ]
        }
      ],
      "source": [
        "# 1. Write a Python function that takes a list of numbers as input and returns the sum of all even numbers in the list.\n",
        "def sum_of_evens(numbers):\n",
        "    even_sum = 0\n",
        "    for num in numbers:\n",
        "        if num % 2 == 0:\n",
        "            even_sum += num\n",
        "    return even_sum\n",
        "\n",
        "print(sum_of_evens([10, 15, 20, 25, 30]))\n"
      ]
    },
    {
      "cell_type": "code",
      "source": [
        "# 2. Create a Python function that accepts a string and returns the reverse of that string.\n",
        "def reverse_string(s):\n",
        "    return s[::-1]\n",
        "\n",
        "print(reverse_string(\"Hello Python\"))\n"
      ],
      "metadata": {
        "colab": {
          "base_uri": "https://localhost:8080/"
        },
        "id": "VaxNkItrE67s",
        "outputId": "8f5404fb-083a-4299-8e2a-0d261191105d"
      },
      "execution_count": 19,
      "outputs": [
        {
          "output_type": "stream",
          "name": "stdout",
          "text": [
            "nohtyP olleH\n"
          ]
        }
      ]
    },
    {
      "cell_type": "code",
      "source": [
        "# 3. Implement a Python function that takes a list of integers and returns a new list containing the squares of each number.\n",
        "def square_list(numbers):\n",
        "    return [x**2 for x in numbers]\n",
        "\n",
        "print(square_list([1, 2, 3, 4, 5]))\n"
      ],
      "metadata": {
        "colab": {
          "base_uri": "https://localhost:8080/"
        },
        "id": "J_8o7zscE9Vl",
        "outputId": "dd2c3df1-5f09-4fc5-9c5c-b609ee3103e3"
      },
      "execution_count": 18,
      "outputs": [
        {
          "output_type": "stream",
          "name": "stdout",
          "text": [
            "[1, 4, 9, 16, 25]\n"
          ]
        }
      ]
    },
    {
      "cell_type": "code",
      "source": [
        "# 4. Write a Python function that checks if a given number is prime or not from 1 to 200.\n",
        "def is_prime(n):\n",
        "    if n <= 1:\n",
        "        return False\n",
        "    for i in range(2, int(n**0.5) + 1):\n",
        "        if n % i == 0:\n",
        "            return False\n",
        "    return True\n",
        "\n",
        "prime_numbers = [i for i in range(1, 201) if is_prime(i)]\n",
        "print(prime_numbers)\n"
      ],
      "metadata": {
        "colab": {
          "base_uri": "https://localhost:8080/"
        },
        "id": "ryIjAlbYFCjr",
        "outputId": "53920222-dda2-49a8-d2f0-1f1ad594ff2e"
      },
      "execution_count": 17,
      "outputs": [
        {
          "output_type": "stream",
          "name": "stdout",
          "text": [
            "[2, 3, 5, 7, 11, 13, 17, 19, 23, 29, 31, 37, 41, 43, 47, 53, 59, 61, 67, 71, 73, 79, 83, 89, 97, 101, 103, 107, 109, 113, 127, 131, 137, 139, 149, 151, 157, 163, 167, 173, 179, 181, 191, 193, 197, 199]\n"
          ]
        }
      ]
    },
    {
      "cell_type": "code",
      "source": [
        "# 5. Create an iterator class in Python that generates the Fibonacci sequence up to a specified number of terms.\n",
        "class FibonacciIterator:\n",
        "    def __init__(self, max_terms):\n",
        "        self.max_terms = max_terms\n",
        "        self.a, self.b = 0, 1\n",
        "        self.count = 0\n",
        "\n",
        "    def __iter__(self):\n",
        "        return self\n",
        "\n",
        "    def __next__(self):\n",
        "        if self.count >= self.max_terms:\n",
        "            raise StopIteration\n",
        "        result = self.a\n",
        "        self.a, self.b = self.b, self.a + self.b\n",
        "        self.count += 1\n",
        "        return result\n",
        "\n",
        "fib = FibonacciIterator(10)\n",
        "for num in fib:\n",
        "    print(num, end=\" \")\n"
      ],
      "metadata": {
        "colab": {
          "base_uri": "https://localhost:8080/"
        },
        "id": "6BvDq5zVFEri",
        "outputId": "5343cbff-8c00-446c-fd90-e22c21a5f082"
      },
      "execution_count": 16,
      "outputs": [
        {
          "output_type": "stream",
          "name": "stdout",
          "text": [
            "0 1 1 2 3 5 8 13 21 34 "
          ]
        }
      ]
    },
    {
      "cell_type": "code",
      "source": [
        "# 6. Write a generator function in Python that yields the powers of 2 up to a given exponent.\n",
        "def powers_of_two(n):\n",
        "    for i in range(n + 1):\n",
        "        yield 2 ** i\n",
        "\n",
        "for val in powers_of_two(5):\n",
        "    print(val, end=\" \")\n"
      ],
      "metadata": {
        "colab": {
          "base_uri": "https://localhost:8080/"
        },
        "id": "KvMaEc7_FH24",
        "outputId": "caba10e6-4e0b-45fd-89d7-a469a31ac37d"
      },
      "execution_count": 15,
      "outputs": [
        {
          "output_type": "stream",
          "name": "stdout",
          "text": [
            "1 2 4 8 16 32 "
          ]
        }
      ]
    },
    {
      "cell_type": "code",
      "source": [
        "# 7. Implement a generator function that reads a file line by line and yields each line as a string.\n",
        "def read_lines(filename):\n",
        "    with open(filename, 'r') as file:\n",
        "        for line in file:\n",
        "            yield line.strip()\n",
        "\n",
        "# Example usage (uncomment and replace 'sample.txt' with actual file path):\n",
        "# for line in read_lines('sample.txt'):\n",
        "#     print(line)\n"
      ],
      "metadata": {
        "id": "rKqXOSyJFNh1"
      },
      "execution_count": 8,
      "outputs": []
    },
    {
      "cell_type": "code",
      "source": [
        "# 8. Use a lambda function in Python to sort a list of tuples based on the second element of each tuple.\n",
        "data = [(1, 3), (4, 1), (2, 2)]\n",
        "sorted_data = sorted(data, key=lambda x: x[1])\n",
        "print(sorted_data)\n"
      ],
      "metadata": {
        "colab": {
          "base_uri": "https://localhost:8080/"
        },
        "id": "KvUeaCheFSws",
        "outputId": "2d7e016e-103a-4a9b-9ba3-5727f6b30355"
      },
      "execution_count": 14,
      "outputs": [
        {
          "output_type": "stream",
          "name": "stdout",
          "text": [
            "[(4, 1), (2, 2), (1, 3)]\n"
          ]
        }
      ]
    },
    {
      "cell_type": "code",
      "source": [
        "# 9. Write a Python program that uses `map()` to convert a list of temperatures from Celsius to Fahrenheit.\n",
        "celsius = [0, 10, 20, 30, 40]\n",
        "fahrenheit = list(map(lambda c: (c * 9/5) + 32, celsius))\n",
        "print(fahrenheit)\n"
      ],
      "metadata": {
        "colab": {
          "base_uri": "https://localhost:8080/"
        },
        "id": "x-4WTyfkFafo",
        "outputId": "42ef867c-83b0-4852-9334-072c0f34a40c"
      },
      "execution_count": 13,
      "outputs": [
        {
          "output_type": "stream",
          "name": "stdout",
          "text": [
            "[32.0, 50.0, 68.0, 86.0, 104.0]\n"
          ]
        }
      ]
    },
    {
      "cell_type": "code",
      "source": [
        "# 10. Create a Python program that uses `filter()` to remove all the vowels from a given string.\n",
        "def remove_vowels(s):\n",
        "    return ''.join(filter(lambda x: x.lower() not in 'aeiou', s))\n",
        "\n",
        "print(remove_vowels(\"Hello World\"))"
      ],
      "metadata": {
        "colab": {
          "base_uri": "https://localhost:8080/"
        },
        "id": "39nthKtWFg2F",
        "outputId": "8724b0c2-1b71-4555-c90b-596ce0d46342"
      },
      "execution_count": 12,
      "outputs": [
        {
          "output_type": "stream",
          "name": "stdout",
          "text": [
            "Hll Wrld\n"
          ]
        }
      ]
    },
    {
      "cell_type": "code",
      "source": [
        "# 11. Imagine an accounting routine used in a book shop. It works on a list with sublists like:\n",
        "# [['34587', 'Learning Python', 'Mark Lutz', 4, 40.95],\n",
        "#  ['98762', 'Programming Python', 'Mark Lutz', 5, 56.80], ...]\n",
        "# Write a Python program, which returns a list with 2-tuples.\n",
        "# Each tuple consists of the order number and the product of price and quantity.\n",
        "# If the product is less than 100, add €10 surcharge. Use lambda and map.\n",
        "\n",
        "orders = [\n",
        "    ['34587', 'Learning Python', 'Mark Lutz', 4, 40.95],\n",
        "    ['98762', 'Programming Python', 'Mark Lutz', 5, 56.80],\n",
        "    ['77226', 'Head First Python', 'Paul Barry', 3, 32.95],\n",
        "    ['88112', 'Einführung in Python3', 'Bernd Klein', 3, 24.99]\n",
        "]\n",
        "\n",
        "invoice = list(map(lambda order: (\n",
        "    order[0],\n",
        "    order[3] * order[4] if order[3] * order[4] >= 100 else order[3] * order[4] + 10\n",
        "), orders))\n",
        "\n",
        "print(invoice)\n"
      ],
      "metadata": {
        "colab": {
          "base_uri": "https://localhost:8080/"
        },
        "id": "BEgVAqPeFjX5",
        "outputId": "afd9300a-014f-427f-80bc-f61f7e357eda"
      },
      "execution_count": 22,
      "outputs": [
        {
          "output_type": "stream",
          "name": "stdout",
          "text": [
            "[('34587', 163.8), ('98762', 284.0), ('77226', 108.85000000000001), ('88112', 84.97)]\n"
          ]
        }
      ]
    }
  ]
}